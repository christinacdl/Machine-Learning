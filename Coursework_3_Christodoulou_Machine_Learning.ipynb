{
  "cells": [
    {
      "cell_type": "markdown",
      "id": "8602e5e0",
      "metadata": {
        "id": "8602e5e0"
      },
      "source": [
        "#                                Mnist-Handwritten Dataset - ANN & CNN"
      ]
    },
    {
      "cell_type": "markdown",
      "source": [
        "**M916 - Machine Learning**\n",
        "\n",
        "**Coursework 3**"
      ],
      "metadata": {
        "id": "PxirDsLGd9_O"
      },
      "id": "PxirDsLGd9_O"
    },
    {
      "cell_type": "code",
      "execution_count": null,
      "id": "3252d4c8",
      "metadata": {
        "id": "3252d4c8"
      },
      "outputs": [],
      "source": [
        "#--------------------------------------- Mnist-Handwritten Dataset - Implementation -------------------------------------------\n",
        "\n",
        "# Import necessary libraries\n",
        "import keras\n",
        "import tensorflow as tf\n",
        "import matplotlib.pyplot as plt\n",
        "import numpy as np\n",
        "from tensorflow.keras.datasets import mnist\n",
        "from keras.callbacks import EarlyStopping\n",
        "from tensorflow.keras.utils import to_categorical\n",
        "from tensorflow.keras.models import Sequential\n",
        "from __future__ import absolute_import, division, print_function\n",
        "from sklearn.metrics import confusion_matrix, classification_report\n",
        "from tensorflow.keras.layers import Dense, Conv2D, Dropout, Flatten, MaxPooling2D\n",
        "from keras.layers import BatchNormalization"
      ]
    },
    {
      "cell_type": "markdown",
      "source": [
        "Information about the particular dataset\n",
        "\n",
        "num_classes = 10    # total classes (0-9 digits)\n",
        "\n",
        "num_features = 784  # data features (image shape: 28*28)\n",
        "\n",
        "The digits are size-normalized and centered in a fixed-size image\n",
        "\n",
        "The dataset is pre-split in train and test sets\n",
        "\n",
        "Train set: 60000 images, size: 28*28 pixel, Test set: 10000 images, size: 28*28 pixel\n",
        "\n",
        "Need to reshape the data arrays to have a single color channel\n",
        "\n",
        "10 classes are represented as unique integers in the range between black and white (grayscale), or 0 and 255 \n",
        "\n",
        "Need to normalize the pixel values of grayscale images, rescale them to the range [0,1]\n",
        "\n",
        "Use one-hot encoding for the class element of each sample, \n",
        "1 value for the index of the class value and 0 value for all the other classes"
      ],
      "metadata": {
        "id": "7HxeZzZ6d7pn"
      },
      "id": "7HxeZzZ6d7pn"
    },
    {
      "cell_type": "code",
      "execution_count": null,
      "id": "4b227de9",
      "metadata": {
        "colab": {
          "base_uri": "https://localhost:8080/"
        },
        "id": "4b227de9",
        "outputId": "748f5a20-e081-4379-8c27-b87c1ec86399"
      },
      "outputs": [
        {
          "output_type": "stream",
          "name": "stdout",
          "text": [
            "Downloading data from https://storage.googleapis.com/tensorflow/tf-keras-datasets/mnist.npz\n",
            "11493376/11490434 [==============================] - 0s 0us/step\n",
            "11501568/11490434 [==============================] - 0s 0us/step\n"
          ]
        }
      ],
      "source": [
        "#------------------------------------------------- MNIST dataset Preparation ---------------------------------------------------\n",
        "\n",
        "def load_prepare_dataset():\n",
        "    \n",
        "    # Load the dataset\n",
        "    (X_train, Y_train), (X_test, Y_test) = mnist.load_data() # the dataset is pre-split in train and test set\n",
        "\n",
        "    # Reshape/flatten the images\n",
        "    X_train = X_train.reshape(X_train.shape[0], 28, 28, 1)\n",
        "    X_test = X_test.reshape(X_test.shape[0], 28, 28, 1)\n",
        "\n",
        "    # Use One-hot encoding to set exactly one of the positions in the vector to 1 (the correct digit) and the rest digits to 0\n",
        "    num_classes = 10 \n",
        "    Y_train = to_categorical(Y_train,num_classes)\n",
        "    Y_test = to_categorical(Y_test,num_classes)\n",
        "    #print(\"First 5 training lables as one-hot encoded vectors:\\n\", Y_train[:5])\n",
        "    \n",
        "    # Convert from integer to float32 \n",
        "    X_train, X_test = np.array(X_train, np.float32), np.array(X_test, np.float32)\n",
        "\n",
        "    # Normalize image values from [0, 255] to [0, 1] by dividing the pixel values with the maximum value\n",
        "    X_train, X_test = (X_train / 255) , (X_test / 255)\n",
        "\n",
        "    # Summarize the loaded dataset\n",
        "    print('Number of images in Train sets: X = %s, Y = %s' % (X_train.shape, Y_train.shape)) \n",
        "    print('Number of images in Test sets: X = %s, Y =%s' % (X_test.shape, Y_test.shape))\n",
        "    \n",
        "    return X_train,Y_train,X_test,Y_test\n",
        "\n",
        "# Call the function to load and prepare the dataset\n",
        "X_train, Y_train, X_test, Y_test = load_prepare_dataset()"
      ]
    },
    {
      "cell_type": "code",
      "execution_count": null,
      "id": "c8bd40ac",
      "metadata": {
        "id": "c8bd40ac"
      },
      "outputs": [],
      "source": [
        "# Plot the images\n",
        "\n",
        "num = 10\n",
        "num_row = 2\n",
        "num_col = 5\n",
        "images = X_train[:num]\n",
        "\n",
        "fig, axes = plt.subplots(num_row, num_col, figsize=(1.5*num_col,2*num_row))\n",
        "for i in range(num):\n",
        "    ax = axes[i//num_col, i%num_col]\n",
        "    ax.imshow(images[i], cmap='gray')\n",
        "plt.tight_layout()\n",
        "plt.show()"
      ]
    },
    {
      "cell_type": "code",
      "execution_count": null,
      "id": "6014d842",
      "metadata": {
        "id": "6014d842"
      },
      "outputs": [],
      "source": [
        "#---------------------------------------------------- Create Plots -------------------------------------------------------------\n",
        "\n",
        "# A function that plots the loss and accuracy\n",
        "\n",
        "def show_train_history(train_history, train, validation):\n",
        "    plt.plot( train_history.history[ train ])\n",
        "    plt.plot( train_history.history[ validation ])\n",
        "    plt.title('Train History')\n",
        "    plt.ylabel(train)\n",
        "    plt.xlabel('Epoch')\n",
        "    plt.legend(['train', 'validation'], loc = 'upper left')\n",
        "    plt.show()"
      ]
    },
    {
      "cell_type": "code",
      "execution_count": null,
      "id": "cc316c70",
      "metadata": {
        "id": "cc316c70"
      },
      "outputs": [],
      "source": [
        "#------------------------------------------------ Evaluate the results --------------------------------------------------------\n",
        "\n",
        "# A function that computes the accuracy and the confusion matrix of a model and prints the classification report\n",
        "\n",
        "def evaluate_results(model):\n",
        "    # Evaluare the model's performance using the accuracy\n",
        "    accuracy = model.evaluate(X_test, Y_test, verbose = 1) \n",
        "    print('Model evaluation:', accuracy)\n",
        "    print()\n",
        "    \n",
        "    # Verbose = 1 shows an animated progress bar\n",
        "    predictions = model.predict(X_test)\n",
        "    Y_pred = (predictions > 0.5)\n",
        "    matrix = confusion_matrix(Y_test.argmax(axis=1), Y_pred.argmax(axis=1))\n",
        "\n",
        "    print(matrix)\n",
        "    print()\n",
        "    print('Classification report of Confusion matrix:\\n', classification_report(Y_test,Y_pred))"
      ]
    },
    {
      "cell_type": "markdown",
      "id": "806e6746",
      "metadata": {
        "id": "806e6746"
      },
      "source": [
        "# Artificial Neural Network"
      ]
    },
    {
      "cell_type": "code",
      "execution_count": null,
      "id": "91d58439",
      "metadata": {
        "scrolled": true,
        "id": "91d58439",
        "outputId": "ba8ae065-e99c-4ace-c432-d73502c6085e"
      },
      "outputs": [
        {
          "name": "stdout",
          "output_type": "stream",
          "text": [
            "Model: \"sequential\"\n",
            "_________________________________________________________________\n",
            "Layer (type)                 Output Shape              Param #   \n",
            "=================================================================\n",
            "flatten (Flatten)            (None, 784)               0         \n",
            "_________________________________________________________________\n",
            "dense (Dense)                (None, 256)               200960    \n",
            "_________________________________________________________________\n",
            "dense_1 (Dense)              (None, 128)               32896     \n",
            "_________________________________________________________________\n",
            "dropout (Dropout)            (None, 128)               0         \n",
            "_________________________________________________________________\n",
            "dense_2 (Dense)              (None, 10)                1290      \n",
            "=================================================================\n",
            "Total params: 235,146\n",
            "Trainable params: 235,146\n",
            "Non-trainable params: 0\n",
            "_________________________________________________________________\n"
          ]
        }
      ],
      "source": [
        "#-------------------------------------- Create and compile the ANN model ------------------------------------------------------\n",
        "\n",
        "image_size = 784\n",
        "# 2 fully-connected dense layers with 256 and 128 neurons. Use ReLu activation function.\n",
        "ann_model = Sequential()\n",
        "ann_model.add(Flatten(input_shape=(28,28))) \n",
        "ann_model.add(Dense(256, activation='relu', input_shape=(image_size,))) \n",
        "ann_model.add(Dense(128, activation='relu'))\n",
        "ann_model.add(Dropout(0.3)) # Regularization method that probabilistically removes inputs during training\n",
        "ann_model.add(Dense(10, activation='softmax')) # Output layer with 10 neurons and softmax activation function\n",
        "\n",
        "# The label is encoded with one hot and then the loss of the model uses cross entropy\n",
        "ann_model.compile(optimizer='adam', loss='categorical_crossentropy', metrics=['accuracy'])\n",
        "\n",
        "# Print model's summary \n",
        "ann_model.summary()"
      ]
    },
    {
      "cell_type": "code",
      "execution_count": null,
      "id": "f0c2711b",
      "metadata": {
        "id": "f0c2711b",
        "outputId": "fd34ba3f-bfa4-48c3-fcf5-f71cced4845f"
      },
      "outputs": [
        {
          "name": "stdout",
          "output_type": "stream",
          "text": [
            "Epoch 1/15\n",
            "1688/1688 [==============================] - 3s 2ms/step - loss: 0.2569 - accuracy: 0.9222 - val_loss: 0.0946 - val_accuracy: 0.9725\n",
            "Epoch 2/15\n",
            "1688/1688 [==============================] - 2s 1ms/step - loss: 0.1091 - accuracy: 0.9668 - val_loss: 0.0812 - val_accuracy: 0.9772\n",
            "Epoch 3/15\n",
            "1688/1688 [==============================] - 2s 1ms/step - loss: 0.0766 - accuracy: 0.9764 - val_loss: 0.0829 - val_accuracy: 0.9767\n",
            "Epoch 4/15\n",
            "1688/1688 [==============================] - 2s 1ms/step - loss: 0.0585 - accuracy: 0.9814 - val_loss: 0.0760 - val_accuracy: 0.9790\n",
            "Epoch 5/15\n",
            "1688/1688 [==============================] - 2s 1ms/step - loss: 0.0473 - accuracy: 0.9847 - val_loss: 0.0787 - val_accuracy: 0.9790\n",
            "Epoch 6/15\n",
            "1688/1688 [==============================] - 2s 1ms/step - loss: 0.0394 - accuracy: 0.9877 - val_loss: 0.0846 - val_accuracy: 0.9800\n",
            "Epoch 7/15\n",
            "1688/1688 [==============================] - 2s 1ms/step - loss: 0.0348 - accuracy: 0.9887 - val_loss: 0.0801 - val_accuracy: 0.9802\n",
            "Epoch 8/15\n",
            "1688/1688 [==============================] - 2s 1ms/step - loss: 0.0295 - accuracy: 0.9903 - val_loss: 0.0894 - val_accuracy: 0.9790\n",
            "Epoch 9/15\n",
            "1688/1688 [==============================] - 2s 1ms/step - loss: 0.0252 - accuracy: 0.9915 - val_loss: 0.0893 - val_accuracy: 0.9792\n",
            "Epoch 10/15\n",
            "1688/1688 [==============================] - 2s 1ms/step - loss: 0.0249 - accuracy: 0.9924 - val_loss: 0.0810 - val_accuracy: 0.9807\n",
            "Epoch 11/15\n",
            "1688/1688 [==============================] - 2s 1ms/step - loss: 0.0210 - accuracy: 0.9931 - val_loss: 0.0936 - val_accuracy: 0.9803\n",
            "Epoch 12/15\n",
            "1688/1688 [==============================] - 3s 1ms/step - loss: 0.0202 - accuracy: 0.9937 - val_loss: 0.0936 - val_accuracy: 0.9802\n",
            "Epoch 13/15\n",
            "1688/1688 [==============================] - 2s 1ms/step - loss: 0.0164 - accuracy: 0.9947 - val_loss: 0.1059 - val_accuracy: 0.9797\n",
            "Epoch 14/15\n",
            "1688/1688 [==============================] - 2s 1ms/step - loss: 0.0191 - accuracy: 0.9939 - val_loss: 0.0913 - val_accuracy: 0.9813\n",
            "Epoch 15/15\n",
            "1688/1688 [==============================] - 2s 1ms/step - loss: 0.0142 - accuracy: 0.9955 - val_loss: 0.1167 - val_accuracy: 0.9787\n"
          ]
        }
      ],
      "source": [
        "#------------------------------------------------- Train the ANN model ---------------------------------------------------------\n",
        "\n",
        "train_history = ann_model.fit(X_train, Y_train, epochs = 15, batch_size = 32, validation_split = 0.1, verbose = 1)\n",
        "\n",
        "# validation_split: the model is evaluated on the validation dataset at the end of each training epoch\n",
        "# verbose: show you an animated progress bar "
      ]
    },
    {
      "cell_type": "code",
      "execution_count": null,
      "id": "4ef0f86e",
      "metadata": {
        "id": "4ef0f86e",
        "outputId": "13f4fa8c-8341-43fe-8b55-1bf456b580e7"
      },
      "outputs": [
        {
          "data": {
            "image/png": "[encoded data removed]",
            "text/plain": [
              "<Figure size 432x288 with 1 Axes>"
            ]
          },
          "metadata": {
            "needs_background": "light"
          },
          "output_type": "display_data"
        },
        {
          "name": "stdout",
          "output_type": "stream",
          "text": [
            "Model prediction: 7\n"
          ]
        },
        {
          "data": {
            "image/png": "[encoded data removed]",
            "text/plain": [
              "<Figure size 432x288 with 1 Axes>"
            ]
          },
          "metadata": {
            "needs_background": "light"
          },
          "output_type": "display_data"
        },
        {
          "name": "stdout",
          "output_type": "stream",
          "text": [
            "Model prediction: 2\n"
          ]
        },
        {
          "data": {
            "image/png": "[encoded data removed]",
            "text/plain": [
              "<Figure size 432x288 with 1 Axes>"
            ]
          },
          "metadata": {
            "needs_background": "light"
          },
          "output_type": "display_data"
        },
        {
          "name": "stdout",
          "output_type": "stream",
          "text": [
            "Model prediction: 1\n"
          ]
        },
        {
          "data": {
            "image/png": "[encoded data removed]",
            "text/plain": [
              "<Figure size 432x288 with 1 Axes>"
            ]
          },
          "metadata": {
            "needs_background": "light"
          },
          "output_type": "display_data"
        },
        {
          "name": "stdout",
          "output_type": "stream",
          "text": [
            "Model prediction: 0\n"
          ]
        },
        {
          "data": {
            "image/png": "[encoded data removed]",
            "text/plain": [
              "<Figure size 432x288 with 1 Axes>"
            ]
          },
          "metadata": {
            "needs_background": "light"
          },
          "output_type": "display_data"
        },
        {
          "name": "stdout",
          "output_type": "stream",
          "text": [
            "Model prediction: 4\n"
          ]
        }
      ],
      "source": [
        "# Predict 5 images from validation set\n",
        "n_images = 5\n",
        "test_images = X_test[:n_images]\n",
        "predictions = ann_model(test_images)\n",
        "\n",
        "# Display image and model prediction\n",
        "for i in range(n_images):\n",
        "    plt.imshow(np.reshape(test_images[i], [28, 28]), cmap='Greys')\n",
        "    plt.show()\n",
        "    print(\"Model prediction: %i\" % np.argmax(predictions.numpy()[i]))"
      ]
    },
    {
      "cell_type": "markdown",
      "id": "5a04ce03",
      "metadata": {
        "id": "5a04ce03"
      },
      "source": [
        "# Convolutional Neural Network"
      ]
    },
    {
      "cell_type": "code",
      "execution_count": null,
      "id": "a7adbe24",
      "metadata": {
        "id": "a7adbe24",
        "outputId": "c58e2cfe-2a31-4d9c-d8fd-1087accab2a9"
      },
      "outputs": [
        {
          "name": "stdout",
          "output_type": "stream",
          "text": [
            "Model: \"sequential_1\"\n",
            "_________________________________________________________________\n",
            "Layer (type)                 Output Shape              Param #   \n",
            "=================================================================\n",
            "conv2d (Conv2D)              (None, 26, 26, 64)        640       \n",
            "_________________________________________________________________\n",
            "conv2d_1 (Conv2D)            (None, 24, 24, 32)        18464     \n",
            "_________________________________________________________________\n",
            "max_pooling2d (MaxPooling2D) (None, 12, 12, 32)        0         \n",
            "_________________________________________________________________\n",
            "flatten_1 (Flatten)          (None, 4608)              0         \n",
            "_________________________________________________________________\n",
            "dense_3 (Dense)              (None, 128)               589952    \n",
            "_________________________________________________________________\n",
            "dropout_1 (Dropout)          (None, 128)               0         \n",
            "_________________________________________________________________\n",
            "dense_4 (Dense)              (None, 10)                1290      \n",
            "=================================================================\n",
            "Total params: 610,346\n",
            "Trainable params: 610,346\n",
            "Non-trainable params: 0\n",
            "_________________________________________________________________\n"
          ]
        }
      ],
      "source": [
        "#----------------------------------------- Create and compile the CNN model ----------------------------------------------------\n",
        "\n",
        "cnn_model = Sequential()\n",
        "cnn_model.add(Conv2D(64, kernel_size = (3, 3), input_shape=(28,28,1))) # Convolutional layer with 64 kernels\n",
        "cnn_model.add(Conv2D(32, kernel_size = (3, 3))) # Convolutional layer with 32 kernels\n",
        "cnn_model.add(MaxPooling2D((2, 2)))\n",
        "cnn_model.add(Flatten()) \n",
        "cnn_model.add(Dense(128, activation='relu')) # Fully connected layer with 128 neurons\n",
        "cnn_model.add(Dropout(0.3))\n",
        "cnn_model.add(Dense(10, activation='softmax')) # Output layer with 10 neurons and softmax activation function\n",
        "\n",
        "# The label is encoded with one hot and then the loss of the model uses cross entropy\n",
        "cnn_model.compile(optimizer='adam', loss='categorical_crossentropy', metrics=['accuracy'])\n",
        "\n",
        "# Print model's summary\n",
        "cnn_model.summary()"
      ]
    },
    {
      "cell_type": "code",
      "execution_count": null,
      "id": "3adcf7b9",
      "metadata": {
        "id": "3adcf7b9",
        "outputId": "358faf2b-7f99-45a0-8ccd-8ebd75cbacae"
      },
      "outputs": [
        {
          "name": "stdout",
          "output_type": "stream",
          "text": [
            "Epoch 1/15\n",
            "1688/1688 [==============================] - 50s 30ms/step - loss: 0.1999 - accuracy: 0.9396 - val_loss: 0.0574 - val_accuracy: 0.9847\n",
            "Epoch 2/15\n",
            "1688/1688 [==============================] - 49s 29ms/step - loss: 0.0856 - accuracy: 0.9732 - val_loss: 0.0583 - val_accuracy: 0.9845\n",
            "Epoch 3/15\n",
            "1688/1688 [==============================] - 49s 29ms/step - loss: 0.0625 - accuracy: 0.9799 - val_loss: 0.0584 - val_accuracy: 0.9833\n",
            "Epoch 4/15\n",
            "1688/1688 [==============================] - 50s 30ms/step - loss: 0.0530 - accuracy: 0.9836 - val_loss: 0.0553 - val_accuracy: 0.9870\n",
            "Epoch 5/15\n",
            "1688/1688 [==============================] - 50s 30ms/step - loss: 0.0457 - accuracy: 0.9851 - val_loss: 0.0583 - val_accuracy: 0.9873\n",
            "Epoch 6/15\n",
            "1688/1688 [==============================] - 50s 30ms/step - loss: 0.0428 - accuracy: 0.9854 - val_loss: 0.0591 - val_accuracy: 0.9885\n",
            "Epoch 7/15\n",
            "1688/1688 [==============================] - 49s 29ms/step - loss: 0.0365 - accuracy: 0.9881 - val_loss: 0.0601 - val_accuracy: 0.9870\n",
            "Epoch 8/15\n",
            "1688/1688 [==============================] - 49s 29ms/step - loss: 0.0324 - accuracy: 0.9894 - val_loss: 0.0695 - val_accuracy: 0.9843\n",
            "Epoch 9/15\n",
            "1688/1688 [==============================] - 49s 29ms/step - loss: 0.0329 - accuracy: 0.9894 - val_loss: 0.0667 - val_accuracy: 0.9873\n",
            "Epoch 10/15\n",
            "1688/1688 [==============================] - 49s 29ms/step - loss: 0.0317 - accuracy: 0.9894 - val_loss: 0.0771 - val_accuracy: 0.9862\n",
            "Epoch 11/15\n",
            "1688/1688 [==============================] - 49s 29ms/step - loss: 0.0286 - accuracy: 0.9911 - val_loss: 0.0655 - val_accuracy: 0.9877\n",
            "Epoch 12/15\n",
            "1688/1688 [==============================] - 50s 30ms/step - loss: 0.0280 - accuracy: 0.9909 - val_loss: 0.0677 - val_accuracy: 0.9875\n",
            "Epoch 13/15\n",
            "1688/1688 [==============================] - 50s 30ms/step - loss: 0.0271 - accuracy: 0.9915 - val_loss: 0.0774 - val_accuracy: 0.9845\n",
            "Epoch 14/15\n",
            "1688/1688 [==============================] - 50s 30ms/step - loss: 0.0262 - accuracy: 0.9916 - val_loss: 0.0713 - val_accuracy: 0.9868\n",
            "Epoch 15/15\n",
            "1688/1688 [==============================] - 50s 30ms/step - loss: 0.0265 - accuracy: 0.9915 - val_loss: 0.0895 - val_accuracy: 0.9863\n"
          ]
        }
      ],
      "source": [
        "#---------------------------------------------- Train the CNN model ---------------------------------------------------------------\n",
        "\n",
        "train_history1 = cnn_model.fit(X_train, Y_train, epochs = 15, batch_size = 32, validation_split = 0.1, verbose = 1)"
      ]
    },
    {
      "cell_type": "code",
      "execution_count": null,
      "id": "8b6fb4dc",
      "metadata": {
        "scrolled": true,
        "id": "8b6fb4dc",
        "outputId": "69ff456d-3181-4c9f-8382-8c0341d2413b"
      },
      "outputs": [
        {
          "data": {
            "image/png": "[encoded data removed]",
            "text/plain": [
              "<Figure size 432x288 with 1 Axes>"
            ]
          },
          "metadata": {
            "needs_background": "light"
          },
          "output_type": "display_data"
        }
      ],
      "source": [
        "#----------------------------------------------------- Create the Plots --------------------------------------------------------\n",
        "\n",
        "# Performance Learning Curve of accuracy for the ANN Model\n",
        "show_train_history( train_history, 'accuracy', 'val_accuracy')"
      ]
    },
    {
      "cell_type": "code",
      "execution_count": null,
      "id": "bd8a4409",
      "metadata": {
        "id": "bd8a4409",
        "outputId": "7d5b233b-6e43-418a-aa31-f5a21bcc2c08"
      },
      "outputs": [
        {
          "data": {
            "image/png": "[encoded data removed]",
            "text/plain": [
              "<Figure size 432x288 with 1 Axes>"
            ]
          },
          "metadata": {
            "needs_background": "light"
          },
          "output_type": "display_data"
        }
      ],
      "source": [
        "# Optimization Learning Curve of loss for the ANN Model\n",
        "show_train_history( train_history, 'loss', 'val_loss')"
      ]
    },
    {
      "cell_type": "code",
      "execution_count": null,
      "id": "b2d47e56",
      "metadata": {
        "id": "b2d47e56",
        "outputId": "d420b017-d65a-43c7-aa98-29c2d5c3c58a"
      },
      "outputs": [
        {
          "data": {
            "image/png": "[encoded data removed]",
            "text/plain": [
              "<Figure size 432x288 with 1 Axes>"
            ]
          },
          "metadata": {
            "needs_background": "light"
          },
          "output_type": "display_data"
        }
      ],
      "source": [
        "# Performance Learning Curve of accuracy for the CNN Model\n",
        "show_train_history(train_history1, 'accuracy', 'val_accuracy')"
      ]
    },
    {
      "cell_type": "code",
      "execution_count": null,
      "id": "36174efe",
      "metadata": {
        "scrolled": true,
        "id": "36174efe",
        "outputId": "d7d75818-11f7-4b7f-f274-dea0a42753be"
      },
      "outputs": [
        {
          "data": {
            "image/png": "[encoded data removed]",
            "text/plain": [
              "<Figure size 432x288 with 1 Axes>"
            ]
          },
          "metadata": {
            "needs_background": "light"
          },
          "output_type": "display_data"
        }
      ],
      "source": [
        "# Optimization Learning Curve of loss for the CNN Model\n",
        "show_train_history(train_history1, 'loss', 'val_loss')"
      ]
    },
    {
      "cell_type": "raw",
      "id": "634715cb",
      "metadata": {
        "id": "634715cb"
      },
      "source": [
        "Both in the AAN and CNN model, the accuracy and the loss plots show when the model starts underfitting and stops overfitting. From the optimization learning curve for the loss, it is evident that the two models have similar plots. The curve of the training loss initially fails to sufficiently learn the problem and performs poorly on the training dataset as it is very high in the first epochs. This is clearly a case of underfitting, since each model has high bias and low variance.\n",
        "\n",
        "Then, the curve starts to drop dramatically during training since it fits the training data better, it converges at a point with the curve of the validation loss and then continues to decrease. This means that the models are capable of performing better in training and that the training process was halted prematurely. The training curve continue to decreasing, especially in the ANN model, is a first sign of overfitting. The training curve in the CNN model seems to reach a plateau towards the last epochs.\n",
        "\n",
        "The curve of the validation loss in both models starts lower than the curve of the training loss, which probably means that the validation dataset was easier to predict than the training dataset. The curve of the validation loss seems to have many fluctuations in both models. After the curve converges with the curve of the training loss, it starts to increase the during the last epochs while the training curve is decreasing. The curve of the validation loss decreasing and then increasing is also a sign of overfitting. \n",
        "\n",
        "From the performance learning curve for the accuracy, the training curve is very low at the beginning of the training process, then it starts to increase rapidly which means that the models are improving in learning the data till they achieve a very high accuracy in both models. The curve of the validation accuracy starts high and remains high during all epochs. However, another sign of overfitting is that the curve of the training accuracy is significantly better than the validation accuracy.It is clear that the two models perform well at a point and then start overfitting meaning that the models learn the training data too well and they become less able to generalize to new data. "
      ]
    },
    {
      "cell_type": "code",
      "execution_count": null,
      "id": "23ad4c49",
      "metadata": {
        "id": "23ad4c49",
        "outputId": "c21b428d-afd1-42d6-8f4d-c3994c56f37e"
      },
      "outputs": [
        {
          "name": "stdout",
          "output_type": "stream",
          "text": [
            "313/313 [==============================] - 0s 758us/step - loss: 0.1126 - accuracy: 0.9783\n",
            "Model evaluation: [0.11260351538658142, 0.9782999753952026]\n",
            "\n",
            "[[ 972    0    3    0    0    1    2    0    1    1]\n",
            " [   0 1128    1    3    0    0    1    0    2    0]\n",
            " [   3    1 1000   14    1    0    1    7    4    1]\n",
            " [   1    0    0  999    0    4    0    3    2    1]\n",
            " [   3    1    2    2  958    0    6    1    2    7]\n",
            " [   2    0    0   10    1  871    1    1    5    1]\n",
            " [   5    2    0    1    4    7  939    0    0    0]\n",
            " [   4    4    5   10    3    0    0  998    1    3]\n",
            " [   4    1    2    8    4    0    1    2  950    2]\n",
            " [   7    3    0   14   14    4    0    4    3  960]]\n",
            "\n",
            "Classification report of Confusion matrix:\n",
            "               precision    recall  f1-score   support\n",
            "\n",
            "           0       0.98      0.99      0.99       980\n",
            "           1       0.99      0.99      0.99      1135\n",
            "           2       0.99      0.97      0.98      1032\n",
            "           3       0.94      0.99      0.96      1010\n",
            "           4       0.97      0.98      0.97       982\n",
            "           5       0.98      0.98      0.98       892\n",
            "           6       0.99      0.98      0.98       958\n",
            "           7       0.98      0.97      0.98      1028\n",
            "           8       0.98      0.98      0.98       974\n",
            "           9       0.98      0.95      0.97      1009\n",
            "\n",
            "   micro avg       0.98      0.98      0.98     10000\n",
            "   macro avg       0.98      0.98      0.98     10000\n",
            "weighted avg       0.98      0.98      0.98     10000\n",
            " samples avg       0.98      0.98      0.98     10000\n",
            "\n"
          ]
        },
        {
          "name": "stderr",
          "output_type": "stream",
          "text": [
            "C:\\Users\\chris\\AppData\\Roaming\\Python\\Python38\\site-packages\\sklearn\\metrics\\_classification.py:1245: UndefinedMetricWarning: Precision and F-score are ill-defined and being set to 0.0 in samples with no predicted labels. Use `zero_division` parameter to control this behavior.\n",
            "  _warn_prf(average, modifier, msg_start, len(result))\n"
          ]
        }
      ],
      "source": [
        "#-------------------------------------------------- Evaluate the results -------------------------------------------------------\n",
        "\n",
        "# Use the function to evaluate the results of the ANN Model\n",
        "evaluate_results(ann_model)"
      ]
    },
    {
      "cell_type": "code",
      "execution_count": null,
      "id": "40f45b00",
      "metadata": {
        "id": "40f45b00",
        "outputId": "2c3d5788-be28-4126-9be1-48910945ed26"
      },
      "outputs": [
        {
          "name": "stdout",
          "output_type": "stream",
          "text": [
            "313/313 [==============================] - 2s 5ms/step - loss: 0.0817 - accuracy: 0.9845\n",
            "Model evaluation: [0.08168814331293106, 0.984499990940094]\n",
            "\n",
            "[[ 969    0    2    0    0    1    5    2    1    0]\n",
            " [   1 1127    2    1    0    1    2    1    0    0]\n",
            " [   2    1 1017    3    0    0    2    7    0    0]\n",
            " [   0    0    2 1004    0    3    0    0    1    0]\n",
            " [   0    0    0    0  973    0    5    0    0    4]\n",
            " [   1    0    1    7    0  880    2    0    1    0]\n",
            " [   5    2    0    0    2    6  942    0    1    0]\n",
            " [   0    2    6    1    1    0    0 1016    1    1]\n",
            " [   2    2    3    8    2    3    1    3  949    1]\n",
            " [   4    2    0    5   12    6    0    6    5  969]]\n",
            "\n",
            "Classification report of Confusion matrix:\n",
            "               precision    recall  f1-score   support\n",
            "\n",
            "           0       0.99      0.99      0.99       980\n",
            "           1       0.99      0.99      0.99      1135\n",
            "           2       0.98      0.99      0.98      1032\n",
            "           3       0.98      0.99      0.98      1010\n",
            "           4       0.98      0.99      0.99       982\n",
            "           5       0.98      0.99      0.98       892\n",
            "           6       0.98      0.98      0.98       958\n",
            "           7       0.98      0.99      0.98      1028\n",
            "           8       0.99      0.97      0.98       974\n",
            "           9       0.99      0.96      0.98      1009\n",
            "\n",
            "   micro avg       0.98      0.98      0.98     10000\n",
            "   macro avg       0.98      0.98      0.98     10000\n",
            "weighted avg       0.99      0.98      0.98     10000\n",
            " samples avg       0.98      0.98      0.98     10000\n",
            "\n"
          ]
        },
        {
          "name": "stderr",
          "output_type": "stream",
          "text": [
            "C:\\Users\\chris\\AppData\\Roaming\\Python\\Python38\\site-packages\\sklearn\\metrics\\_classification.py:1245: UndefinedMetricWarning: Precision and F-score are ill-defined and being set to 0.0 in samples with no predicted labels. Use `zero_division` parameter to control this behavior.\n",
            "  _warn_prf(average, modifier, msg_start, len(result))\n"
          ]
        }
      ],
      "source": [
        "# Use the function to evaluate the results of the CNN Model\n",
        "evaluate_results(cnn_model)"
      ]
    },
    {
      "cell_type": "markdown",
      "source": [
        "There is a small difference among the trained models on the test set. It is evident that the Convolutional Neural Network performed slightly better than the Artificial Neural Network, since it achieved higher accuracy and less loss. This can be mainly due to the fact that the architecture of the ANN was simpler than the architecture of the CNN, even though I added to both a flattening layer and a dropout, and used the same number of epochs (15) and batch size (32) during training, so that I can compare them. However, I noticed that the CNN needed higher computational time in relation to the NN because deeper and more complex networks require more training time. The combination of deeper networks with more nodes per hidden layer as well as the increased training epochs resulted in taking the training process longer to run. Perhaps I should increase the batch size to check whether the training process accelerates. To sum up, the Convolutional Neural Networks seemed to have learned more features than the Artificial Neural Network, but it does not mean that the performance of the ANN model did not provide satisfactory results. Nevertheless, perhaps the use of regularization methods would help reduce overfitting of the models."
      ],
      "metadata": {
        "id": "lldivFwAdxCw"
      },
      "id": "lldivFwAdxCw"
    },
    {
      "cell_type": "markdown",
      "id": "7b3f6068",
      "metadata": {
        "id": "7b3f6068"
      },
      "source": [
        "# Bonus - CNN"
      ]
    },
    {
      "cell_type": "code",
      "execution_count": null,
      "id": "b6e7f243",
      "metadata": {
        "id": "b6e7f243",
        "outputId": "c5a4b3db-f42c-4b6e-df6c-b93e9379831c"
      },
      "outputs": [
        {
          "name": "stdout",
          "output_type": "stream",
          "text": [
            "Model: \"sequential_2\"\n",
            "_________________________________________________________________\n",
            "Layer (type)                 Output Shape              Param #   \n",
            "=================================================================\n",
            "conv2d_2 (Conv2D)            (None, 26, 26, 64)        640       \n",
            "_________________________________________________________________\n",
            "max_pooling2d_1 (MaxPooling2 (None, 13, 13, 64)        0         \n",
            "_________________________________________________________________\n",
            "conv2d_3 (Conv2D)            (None, 11, 11, 32)        18464     \n",
            "_________________________________________________________________\n",
            "max_pooling2d_2 (MaxPooling2 (None, 5, 5, 32)          0         \n",
            "_________________________________________________________________\n",
            "flatten_2 (Flatten)          (None, 800)               0         \n",
            "_________________________________________________________________\n",
            "dense_5 (Dense)              (None, 128)               102528    \n",
            "_________________________________________________________________\n",
            "dropout_2 (Dropout)          (None, 128)               0         \n",
            "_________________________________________________________________\n",
            "dense_6 (Dense)              (None, 10)                1290      \n",
            "=================================================================\n",
            "Total params: 122,922\n",
            "Trainable params: 122,922\n",
            "Non-trainable params: 0\n",
            "_________________________________________________________________\n"
          ]
        }
      ],
      "source": [
        "#---------------------------------------------------- BONUS --------------------------------------------------------------------\n",
        "\n",
        "# Use max pooling after each convolutional layer\n",
        "\n",
        "cnn2_model = Sequential()\n",
        "cnn2_model.add(Conv2D(64, kernel_size = (3, 3), input_shape=(28,28,1))) # Convolutional layer with 64 kernels\n",
        "cnn2_model.add(MaxPooling2D((2, 2)))\n",
        "cnn2_model.add(Conv2D(32, kernel_size = (3, 3))) # Convolutional layer with 32 kernels\n",
        "cnn2_model.add(MaxPooling2D((2, 2)))\n",
        "cnn2_model.add(Flatten()) \n",
        "cnn2_model.add(Dense(128, activation='relu')) # Fully connected layer with 128 neurons\n",
        "cnn2_model.add(Dropout(0.3))\n",
        "cnn2_model.add(Dense(10, activation='softmax')) # Output layer with 10 neurons and softmax activation function\n",
        "\n",
        "# The label is encoded with one hot and then the loss of the model uses cross entropy\n",
        "cnn2_model.compile(optimizer='adam', loss='categorical_crossentropy', metrics=['accuracy'])\n",
        "\n",
        "# Print model's summary\n",
        "cnn2_model.summary()"
      ]
    },
    {
      "cell_type": "code",
      "execution_count": null,
      "id": "8a05e035",
      "metadata": {
        "id": "8a05e035",
        "outputId": "b5353c51-e626-483b-b024-92276f423c61"
      },
      "outputs": [
        {
          "name": "stdout",
          "output_type": "stream",
          "text": [
            "Epoch 1/15\n",
            "1688/1688 [==============================] - 21s 12ms/step - loss: 0.1923 - accuracy: 0.9410 - val_loss: 0.0676 - val_accuracy: 0.9800\n",
            "Epoch 2/15\n",
            "1688/1688 [==============================] - 21s 12ms/step - loss: 0.0714 - accuracy: 0.9777 - val_loss: 0.0460 - val_accuracy: 0.9867\n",
            "Epoch 3/15\n",
            "1688/1688 [==============================] - 21s 12ms/step - loss: 0.0544 - accuracy: 0.9835 - val_loss: 0.0418 - val_accuracy: 0.9877\n",
            "Epoch 4/15\n",
            "1688/1688 [==============================] - 20s 12ms/step - loss: 0.0434 - accuracy: 0.9864 - val_loss: 0.0522 - val_accuracy: 0.9880\n",
            "Epoch 5/15\n",
            "1688/1688 [==============================] - 21s 12ms/step - loss: 0.0368 - accuracy: 0.9887 - val_loss: 0.0397 - val_accuracy: 0.9897\n",
            "Epoch 6/15\n",
            "1688/1688 [==============================] - 21s 12ms/step - loss: 0.0350 - accuracy: 0.9889 - val_loss: 0.0386 - val_accuracy: 0.9893\n",
            "Epoch 7/15\n",
            "1688/1688 [==============================] - 21s 12ms/step - loss: 0.0294 - accuracy: 0.9907 - val_loss: 0.0310 - val_accuracy: 0.9918\n",
            "Epoch 8/15\n",
            "1688/1688 [==============================] - 21s 12ms/step - loss: 0.0267 - accuracy: 0.9920 - val_loss: 0.0371 - val_accuracy: 0.9915\n",
            "Epoch 9/15\n",
            "1688/1688 [==============================] - 21s 12ms/step - loss: 0.0242 - accuracy: 0.9923 - val_loss: 0.0424 - val_accuracy: 0.9897\n",
            "Restoring model weights from the end of the best epoch.\n",
            "Epoch 00009: early stopping\n"
          ]
        }
      ],
      "source": [
        "#---------------------------------------------- Train the CNN model (BONUS) ---------------------------------------------------------------\n",
        "\n",
        "callbacks = EarlyStopping(monitor = 'val_loss', patience = 2 , verbose = 1, restore_best_weights = True, mode = 'auto')\n",
        "# patience: Number of epochs with no improvement after which training will be stopped\n",
        "# restore_best_weights: use best model's weight or the last epoch weight\n",
        "# verbose = 1: show you an animated progress bar \n",
        "\n",
        "# Train neural network\n",
        "train_history2 = cnn2_model.fit(X_train, Y_train, epochs = 15, batch_size = 32, validation_split = 0.1, verbose = 1, callbacks=[callbacks])"
      ]
    },
    {
      "cell_type": "code",
      "execution_count": null,
      "id": "57e77301",
      "metadata": {
        "id": "57e77301",
        "outputId": "e7d4fbdf-f2de-4b3c-d694-942abfc5120a"
      },
      "outputs": [
        {
          "data": {
            "image/png": "[encoded data removed]",
            "text/plain": [
              "<Figure size 432x288 with 1 Axes>"
            ]
          },
          "metadata": {
            "needs_background": "light"
          },
          "output_type": "display_data"
        }
      ],
      "source": [
        "show_train_history(train_history2, 'accuracy', 'val_accuracy')"
      ]
    },
    {
      "cell_type": "code",
      "execution_count": null,
      "id": "5dee2b4e",
      "metadata": {
        "id": "5dee2b4e",
        "outputId": "aab19c8f-3b33-4aea-a50b-5395376866ca"
      },
      "outputs": [
        {
          "data": {
            "image/png": "[encoded data removed]",
            "text/plain": [
              "<Figure size 432x288 with 1 Axes>"
            ]
          },
          "metadata": {
            "needs_background": "light"
          },
          "output_type": "display_data"
        }
      ],
      "source": [
        "show_train_history(train_history2, 'loss', 'val_loss')"
      ]
    },
    {
      "cell_type": "code",
      "execution_count": null,
      "id": "744f3bc5",
      "metadata": {
        "id": "744f3bc5",
        "outputId": "356c9ebd-e5db-470e-b706-a64aa6bbff6e"
      },
      "outputs": [
        {
          "name": "stdout",
          "output_type": "stream",
          "text": [
            "313/313 [==============================] - 1s 4ms/step - loss: 0.0365 - accuracy: 0.9901\n",
            "Model evaluation: [0.0365302674472332, 0.9901000261306763]\n",
            "\n",
            "[[ 978    0    0    0    0    0    1    1    0    0]\n",
            " [   0 1134    1    0    0    0    0    0    0    0]\n",
            " [   1    0 1027    0    1    0    0    3    0    0]\n",
            " [   1    0    2  998    0    7    0    1    1    0]\n",
            " [   1    1    2    0  972    0    3    0    0    3]\n",
            " [   3    0    1    6    0  880    2    0    0    0]\n",
            " [   6    3    3    0    1    2  942    0    1    0]\n",
            " [   2    2    5    0    0    0    0 1018    0    1]\n",
            " [   3    1    3    1    1    0    0    1  962    2]\n",
            " [   3    1    0    2    5    4    1    4    2  987]]\n",
            "\n",
            "Classification report of Confusion matrix:\n",
            "               precision    recall  f1-score   support\n",
            "\n",
            "           0       0.99      1.00      0.99       980\n",
            "           1       0.99      1.00      1.00      1135\n",
            "           2       0.98      1.00      0.99      1032\n",
            "           3       0.99      0.99      0.99      1010\n",
            "           4       0.99      0.99      0.99       982\n",
            "           5       0.99      0.99      0.99       892\n",
            "           6       0.99      0.98      0.99       958\n",
            "           7       0.99      0.99      0.99      1028\n",
            "           8       1.00      0.99      0.99       974\n",
            "           9       0.99      0.98      0.99      1009\n",
            "\n",
            "   micro avg       0.99      0.99      0.99     10000\n",
            "   macro avg       0.99      0.99      0.99     10000\n",
            "weighted avg       0.99      0.99      0.99     10000\n",
            " samples avg       0.99      0.99      0.99     10000\n",
            "\n"
          ]
        },
        {
          "name": "stderr",
          "output_type": "stream",
          "text": [
            "C:\\Users\\chris\\AppData\\Roaming\\Python\\Python38\\site-packages\\sklearn\\metrics\\_classification.py:1245: UndefinedMetricWarning: Precision and F-score are ill-defined and being set to 0.0 in samples with no predicted labels. Use `zero_division` parameter to control this behavior.\n",
            "  _warn_prf(average, modifier, msg_start, len(result))\n"
          ]
        }
      ],
      "source": [
        "evaluate_results(cnn2_model)"
      ]
    },
    {
      "cell_type": "markdown",
      "source": [
        "I added maxpooling after every convolutional layer as well as an extra regularization method (early stopping) to avoid overfitting. It seems that the model achieved higher accuracy and less loss than the first CNN model. This is mainly due to the fact that the bonus CNN Model was less complex than the first as it had less hyperparameters. Although the curve of the validation loss increases in contrast to the curve of the training loss as a sign of overfitting, the two curves have higher convergence and there is smaller gap between them, whereas in the first CNN model their gap was bigger and their divergence significant. "
      ],
      "metadata": {
        "id": "yrVIC44cdz7W"
      },
      "id": "yrVIC44cdz7W"
    },
    {
      "cell_type": "markdown",
      "id": "51c35bb4",
      "metadata": {
        "id": "51c35bb4"
      },
      "source": [
        "# EXPERIMENT: IMPROVE THE PERFORMANCE OF THE CNN MODEL"
      ]
    },
    {
      "cell_type": "code",
      "execution_count": null,
      "id": "1061115d",
      "metadata": {
        "id": "1061115d",
        "outputId": "7414ca91-8f35-45ac-a523-27fc3cdc8c06"
      },
      "outputs": [
        {
          "name": "stdout",
          "output_type": "stream",
          "text": [
            "Model: \"sequential\"\n",
            "_________________________________________________________________\n",
            "Layer (type)                 Output Shape              Param #   \n",
            "=================================================================\n",
            "conv2d (Conv2D)              (None, 26, 26, 64)        640       \n",
            "_________________________________________________________________\n",
            "module_wrapper (ModuleWrappe (None, 26, 26, 64)        256       \n",
            "_________________________________________________________________\n",
            "max_pooling2d (MaxPooling2D) (None, 13, 13, 64)        0         \n",
            "_________________________________________________________________\n",
            "conv2d_1 (Conv2D)            (None, 11, 11, 32)        18464     \n",
            "_________________________________________________________________\n",
            "max_pooling2d_1 (MaxPooling2 (None, 5, 5, 32)          0         \n",
            "_________________________________________________________________\n",
            "module_wrapper_1 (ModuleWrap (None, 5, 5, 32)          128       \n",
            "_________________________________________________________________\n",
            "flatten (Flatten)            (None, 800)               0         \n",
            "_________________________________________________________________\n",
            "dense (Dense)                (None, 128)               102528    \n",
            "_________________________________________________________________\n",
            "module_wrapper_2 (ModuleWrap (None, 128)               512       \n",
            "_________________________________________________________________\n",
            "dropout (Dropout)            (None, 128)               0         \n",
            "_________________________________________________________________\n",
            "dense_1 (Dense)              (None, 10)                1290      \n",
            "=================================================================\n",
            "Total params: 123,818\n",
            "Trainable params: 123,370\n",
            "Non-trainable params: 448\n",
            "_________________________________________________________________\n"
          ]
        }
      ],
      "source": [
        "# ----------------------------------------- Create and Compile a new CNN Model ------------------------------------------------\n",
        "\n",
        "# Improve the performance of the model\n",
        "# I created a new CNN model to apply early-stopping and avoid overfitting\n",
        "# Epochs: 25\n",
        "# Batch size: 128\n",
        "\n",
        "cnn1_model = Sequential()\n",
        "cnn1_model.add(Conv2D(64, kernel_size = (3, 3), input_shape=(28,28,1))) # Convolutional layer with 64 kernels\n",
        "cnn1_model.add(BatchNormalization())\n",
        "cnn1_model.add(MaxPooling2D((2, 2)))\n",
        "cnn1_model.add(Conv2D(32, kernel_size = (3, 3))) # Convolutional layer with 32 kernels\n",
        "cnn1_model.add(MaxPooling2D((2, 2)))\n",
        "cnn1_model.add(BatchNormalization())\n",
        "cnn1_model.add(Flatten())\n",
        "cnn1_model.add(Dense(128, activation='relu')) # Fully connected layer with 128 neurons\n",
        "cnn1_model.add(BatchNormalization())\n",
        "cnn1_model.add(Dropout(0.3))\n",
        "cnn1_model.add(Dense(10, activation='softmax')) # Output layer with 10 neurons and softmax activation function\n",
        "\n",
        "# The label is encoded with one hot and then the loss of the model uses cross entropy\n",
        "cnn1_model.compile(optimizer='adam', loss='categorical_crossentropy', metrics=['accuracy'])\n",
        "\n",
        "# Print model's summary\n",
        "cnn1_model.summary()\n",
        "\n",
        "# I added batch normalization because it standardizes the output of a layer, stabilizes and accelerates the learning process"
      ]
    },
    {
      "cell_type": "code",
      "execution_count": null,
      "id": "82d3d79e",
      "metadata": {
        "id": "82d3d79e",
        "outputId": "b91acef0-2ced-4644-9624-f31cd116259d"
      },
      "outputs": [
        {
          "name": "stdout",
          "output_type": "stream",
          "text": [
            "Epoch 1/25\n",
            "422/422 [==============================] - 27s 62ms/step - loss: 0.1810 - accuracy: 0.9455 - val_loss: 2.3827 - val_accuracy: 0.3883\n",
            "Epoch 2/25\n",
            "422/422 [==============================] - 26s 62ms/step - loss: 0.0619 - accuracy: 0.9810 - val_loss: 0.0477 - val_accuracy: 0.9875\n",
            "Epoch 3/25\n",
            "422/422 [==============================] - 26s 62ms/step - loss: 0.0482 - accuracy: 0.9855 - val_loss: 0.0496 - val_accuracy: 0.9860\n",
            "Epoch 4/25\n",
            "422/422 [==============================] - 26s 62ms/step - loss: 0.0380 - accuracy: 0.9885 - val_loss: 0.0524 - val_accuracy: 0.9852\n",
            "Restoring model weights from the end of the best epoch.\n",
            "Epoch 00004: early stopping\n"
          ]
        }
      ],
      "source": [
        "#----------------------------------------- Early-Stopping to CNN Model --------------------------------------------------------\n",
        "\n",
        "callbacks = EarlyStopping(monitor = 'val_loss', patience = 2 , verbose = 1, restore_best_weights = True, mode = 'auto')\n",
        "# patience: Number of epochs with no improvement after which training will be stopped\n",
        "# restore_best_weights: use best model's weight or the last epoch weight\n",
        "# verbose = 1: show you an animated progress bar \n",
        "\n",
        "# Train neural network\n",
        "history = cnn1_model.fit(X_train, Y_train, epochs = 25, batch_size = 128, validation_split = 0.1, verbose = 1, callbacks=[callbacks])"
      ]
    },
    {
      "cell_type": "code",
      "execution_count": null,
      "id": "975b5a17",
      "metadata": {
        "id": "975b5a17",
        "outputId": "384b3145-95bb-4376-da38-949f943c455d"
      },
      "outputs": [
        {
          "data": {
            "image/png": "[encoded data removed]",
            "text/plain": [
              "<Figure size 432x288 with 1 Axes>"
            ]
          },
          "metadata": {
            "needs_background": "light"
          },
          "output_type": "display_data"
        }
      ],
      "source": [
        "show_train_history(history, 'accuracy', 'val_accuracy')"
      ]
    },
    {
      "cell_type": "code",
      "execution_count": null,
      "id": "d891fe96",
      "metadata": {
        "id": "d891fe96",
        "outputId": "40ba2bf1-d48d-4de2-cbea-ada46d5a8543"
      },
      "outputs": [
        {
          "data": {
            "image/png": "[encoded data removed]",
            "text/plain": [
              "<Figure size 432x288 with 1 Axes>"
            ]
          },
          "metadata": {
            "needs_background": "light"
          },
          "output_type": "display_data"
        }
      ],
      "source": [
        "show_train_history(history, 'loss', 'val_loss')"
      ]
    },
    {
      "cell_type": "code",
      "execution_count": null,
      "id": "26b0b2a9",
      "metadata": {
        "id": "26b0b2a9",
        "outputId": "a7cf6fb0-d5f9-4314-b170-b0988aa9f7f4"
      },
      "outputs": [
        {
          "name": "stdout",
          "output_type": "stream",
          "text": [
            "313/313 [==============================] - 2s 5ms/step - loss: 0.0464 - accuracy: 0.9855\n",
            "Model evaluation: [0.04635494947433472, 0.9854999780654907]\n",
            "\n",
            "[[ 978    0    0    0    0    0    1    1    0    0]\n",
            " [   2 1131    1    0    0    0    0    0    1    0]\n",
            " [   9    4 1008    0    1    0    3    6    1    0]\n",
            " [   1    0    2  995    0    4    0    3    3    2]\n",
            " [   2    1    0    0  974    0    0    1    0    4]\n",
            " [   8    2    1    4    0  872    3    1    1    0]\n",
            " [   5    4    0    0    1    1  945    0    2    0]\n",
            " [   2   10    6    1    0    0    0 1009    0    0]\n",
            " [  10    0    0    0    3    0    0    3  957    1]\n",
            " [  14    4    0    1    8    3    0    6    0  973]]\n",
            "\n",
            "Classification report of Confusion matrix:\n",
            "               precision    recall  f1-score   support\n",
            "\n",
            "           0       0.98      1.00      0.99       980\n",
            "           1       0.98      1.00      0.99      1135\n",
            "           2       0.99      0.98      0.98      1032\n",
            "           3       0.99      0.99      0.99      1010\n",
            "           4       0.99      0.99      0.99       982\n",
            "           5       0.99      0.98      0.98       892\n",
            "           6       0.99      0.99      0.99       958\n",
            "           7       0.98      0.98      0.98      1028\n",
            "           8       0.99      0.98      0.99       974\n",
            "           9       0.99      0.96      0.98      1009\n",
            "\n",
            "   micro avg       0.99      0.98      0.99     10000\n",
            "   macro avg       0.99      0.98      0.99     10000\n",
            "weighted avg       0.99      0.98      0.99     10000\n",
            " samples avg       0.98      0.98      0.98     10000\n",
            "\n"
          ]
        },
        {
          "name": "stderr",
          "output_type": "stream",
          "text": [
            "C:\\Users\\chris\\AppData\\Roaming\\Python\\Python38\\site-packages\\sklearn\\metrics\\_classification.py:1245: UndefinedMetricWarning: Precision and F-score are ill-defined and being set to 0.0 in samples with no predicted labels. Use `zero_division` parameter to control this behavior.\n",
            "  _warn_prf(average, modifier, msg_start, len(result))\n"
          ]
        }
      ],
      "source": [
        "evaluate_results(cnn1_model)"
      ]
    },
    {
      "cell_type": "markdown",
      "source": [
        "I experimented with the parameters in order to improve the performance of the CNN model. I added batch normalization after each convolutional layer and after the dense layer, implemented early stopping with patience 2 and increased the batch size (from 32 to 128) as well as the number of epochs(from 15 to 25). I noticed that with the batch normalization, not only did the training process accelerate, but the accuracy improved and reduced the effect of overfitting. The convergence between the curves in the plots was dramatically improved. The model seems a good fit as the curve of the training loss was low and decreased even more to a point of stability. The curve of the validation loss was high but decreased dramatically and has a very small gap with the curve of the training loss. "
      ],
      "metadata": {
        "id": "0JLkBHX7bRv_"
      },
      "id": "0JLkBHX7bRv_"
    },
    {
      "cell_type": "code",
      "execution_count": null,
      "id": "7a1ba0a8",
      "metadata": {
        "id": "7a1ba0a8",
        "outputId": "8c71e4b6-595b-4ba4-d0ca-6090d9400a44"
      },
      "outputs": [
        {
          "name": "stdout",
          "output_type": "stream",
          "text": [
            "INFO:tensorflow:Assets written to: ./my_cnn_model_mnist\\assets\n"
          ]
        }
      ],
      "source": [
        "cnn1_model.save('./my_cnn_model_mnist')"
      ]
    }
  ],
  "metadata": {
    "kernelspec": {
      "display_name": "Python 3",
      "language": "python",
      "name": "python3"
    },
    "language_info": {
      "codemirror_mode": {
        "name": "ipython",
        "version": 3
      },
      "file_extension": ".py",
      "mimetype": "text/x-python",
      "name": "python",
      "nbconvert_exporter": "python",
      "pygments_lexer": "ipython3",
      "version": "3.8.5"
    },
    "colab": {
      "name": "Coursework 3_Christodoulou_Machine_Learning.ipynb",
      "provenance": [],
      "collapsed_sections": []
    }
  },
  "nbformat": 4,
  "nbformat_minor": 5
}