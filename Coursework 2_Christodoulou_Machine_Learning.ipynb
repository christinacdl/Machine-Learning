{
 "cells": [
  {
   "cell_type": "code",
   "execution_count": 1,
   "metadata": {},
   "outputs": [],
   "source": [
    "# M916 - Machine Learning\n",
    "# Coursework 2\n",
    "# Student's name: Christina Christodoulou\n",
    "# I.D Number: LT1200027"
   ]
  },
  {
   "cell_type": "code",
   "execution_count": 1,
   "metadata": {},
   "outputs": [],
   "source": [
    "#------------------------------------------- Comprehension Questions - Answers ------------------------------------------------\n",
    "\n",
    "# Question 1: 2. ability to generalize well\n",
    "# Question 2: 1. classification\n",
    "# Question 3: 1. supervised learning"
   ]
  },
  {
   "cell_type": "code",
   "execution_count": 171,
   "metadata": {},
   "outputs": [],
   "source": [
    "#--------------------------------------------------- Implementation ------------------------------------------------------------\n",
    "# Import necessary libraries\n",
    "import numpy as np\n",
    "import pandas as pd\n",
    "import sys\n",
    "import seaborn as sns\n",
    "import scipy.stats as st\n",
    "import statsmodels.api as sm\n",
    "from scipy import optimize\n",
    "from matplotlib import pyplot as plt\n",
    "from scipy import optimize\n",
    "from sklearn import linear_model,metrics\n",
    "from sklearn.model_selection import train_test_split\n",
    "from sklearn.linear_model import LogisticRegression\n",
    "from sklearn.metrics import confusion_matrix, classification_report, roc_curve, auc\n",
    "from sklearn.svm import SVC\n",
    "from sklearn.naive_bayes import GaussianNB\n",
    "from sklearn.model_selection import GridSearchCV"
   ]
  },
  {
   "cell_type": "code",
   "execution_count": 172,
   "metadata": {},
   "outputs": [],
   "source": [
    "# Load Heart Disease Dataset in a single dataframe including the target variable\n",
    "filename = \"heart.csv\"\n",
    "dataframe = pd.read_csv(filename,header=0)"
   ]
  },
  {
   "cell_type": "code",
   "execution_count": 173,
   "metadata": {},
   "outputs": [
    {
     "data": {
      "text/html": [
       "<div>\n",
       "<style scoped>\n",
       "    .dataframe tbody tr th:only-of-type {\n",
       "        vertical-align: middle;\n",
       "    }\n",
       "\n",
       "    .dataframe tbody tr th {\n",
       "        vertical-align: top;\n",
       "    }\n",
       "\n",
       "    .dataframe thead th {\n",
       "        text-align: right;\n",
       "    }\n",
       "</style>\n",
       "<table border=\"1\" class=\"dataframe\">\n",
       "  <thead>\n",
       "    <tr style=\"text-align: right;\">\n",
       "      <th></th>\n",
       "      <th>age</th>\n",
       "      <th>sex</th>\n",
       "      <th>cp</th>\n",
       "      <th>trestbps</th>\n",
       "      <th>chol</th>\n",
       "      <th>fbs</th>\n",
       "      <th>restecg</th>\n",
       "      <th>thalach</th>\n",
       "      <th>exang</th>\n",
       "      <th>oldpeak</th>\n",
       "      <th>slope</th>\n",
       "      <th>ca</th>\n",
       "      <th>thal</th>\n",
       "      <th>target</th>\n",
       "    </tr>\n",
       "  </thead>\n",
       "  <tbody>\n",
       "    <tr>\n",
       "      <th>0</th>\n",
       "      <td>63</td>\n",
       "      <td>1</td>\n",
       "      <td>3</td>\n",
       "      <td>145</td>\n",
       "      <td>233</td>\n",
       "      <td>1</td>\n",
       "      <td>0</td>\n",
       "      <td>150</td>\n",
       "      <td>0</td>\n",
       "      <td>2.3</td>\n",
       "      <td>0</td>\n",
       "      <td>0</td>\n",
       "      <td>1</td>\n",
       "      <td>1</td>\n",
       "    </tr>\n",
       "    <tr>\n",
       "      <th>1</th>\n",
       "      <td>37</td>\n",
       "      <td>1</td>\n",
       "      <td>2</td>\n",
       "      <td>130</td>\n",
       "      <td>250</td>\n",
       "      <td>0</td>\n",
       "      <td>1</td>\n",
       "      <td>187</td>\n",
       "      <td>0</td>\n",
       "      <td>3.5</td>\n",
       "      <td>0</td>\n",
       "      <td>0</td>\n",
       "      <td>2</td>\n",
       "      <td>1</td>\n",
       "    </tr>\n",
       "    <tr>\n",
       "      <th>2</th>\n",
       "      <td>41</td>\n",
       "      <td>0</td>\n",
       "      <td>1</td>\n",
       "      <td>130</td>\n",
       "      <td>204</td>\n",
       "      <td>0</td>\n",
       "      <td>0</td>\n",
       "      <td>172</td>\n",
       "      <td>0</td>\n",
       "      <td>1.4</td>\n",
       "      <td>2</td>\n",
       "      <td>0</td>\n",
       "      <td>2</td>\n",
       "      <td>1</td>\n",
       "    </tr>\n",
       "    <tr>\n",
       "      <th>3</th>\n",
       "      <td>56</td>\n",
       "      <td>1</td>\n",
       "      <td>1</td>\n",
       "      <td>120</td>\n",
       "      <td>236</td>\n",
       "      <td>0</td>\n",
       "      <td>1</td>\n",
       "      <td>178</td>\n",
       "      <td>0</td>\n",
       "      <td>0.8</td>\n",
       "      <td>2</td>\n",
       "      <td>0</td>\n",
       "      <td>2</td>\n",
       "      <td>1</td>\n",
       "    </tr>\n",
       "    <tr>\n",
       "      <th>4</th>\n",
       "      <td>57</td>\n",
       "      <td>0</td>\n",
       "      <td>0</td>\n",
       "      <td>120</td>\n",
       "      <td>354</td>\n",
       "      <td>0</td>\n",
       "      <td>1</td>\n",
       "      <td>163</td>\n",
       "      <td>1</td>\n",
       "      <td>0.6</td>\n",
       "      <td>2</td>\n",
       "      <td>0</td>\n",
       "      <td>2</td>\n",
       "      <td>1</td>\n",
       "    </tr>\n",
       "    <tr>\n",
       "      <th>...</th>\n",
       "      <td>...</td>\n",
       "      <td>...</td>\n",
       "      <td>...</td>\n",
       "      <td>...</td>\n",
       "      <td>...</td>\n",
       "      <td>...</td>\n",
       "      <td>...</td>\n",
       "      <td>...</td>\n",
       "      <td>...</td>\n",
       "      <td>...</td>\n",
       "      <td>...</td>\n",
       "      <td>...</td>\n",
       "      <td>...</td>\n",
       "      <td>...</td>\n",
       "    </tr>\n",
       "    <tr>\n",
       "      <th>298</th>\n",
       "      <td>57</td>\n",
       "      <td>0</td>\n",
       "      <td>0</td>\n",
       "      <td>140</td>\n",
       "      <td>241</td>\n",
       "      <td>0</td>\n",
       "      <td>1</td>\n",
       "      <td>123</td>\n",
       "      <td>1</td>\n",
       "      <td>0.2</td>\n",
       "      <td>1</td>\n",
       "      <td>0</td>\n",
       "      <td>3</td>\n",
       "      <td>0</td>\n",
       "    </tr>\n",
       "    <tr>\n",
       "      <th>299</th>\n",
       "      <td>45</td>\n",
       "      <td>1</td>\n",
       "      <td>3</td>\n",
       "      <td>110</td>\n",
       "      <td>264</td>\n",
       "      <td>0</td>\n",
       "      <td>1</td>\n",
       "      <td>132</td>\n",
       "      <td>0</td>\n",
       "      <td>1.2</td>\n",
       "      <td>1</td>\n",
       "      <td>0</td>\n",
       "      <td>3</td>\n",
       "      <td>0</td>\n",
       "    </tr>\n",
       "    <tr>\n",
       "      <th>300</th>\n",
       "      <td>68</td>\n",
       "      <td>1</td>\n",
       "      <td>0</td>\n",
       "      <td>144</td>\n",
       "      <td>193</td>\n",
       "      <td>1</td>\n",
       "      <td>1</td>\n",
       "      <td>141</td>\n",
       "      <td>0</td>\n",
       "      <td>3.4</td>\n",
       "      <td>1</td>\n",
       "      <td>2</td>\n",
       "      <td>3</td>\n",
       "      <td>0</td>\n",
       "    </tr>\n",
       "    <tr>\n",
       "      <th>301</th>\n",
       "      <td>57</td>\n",
       "      <td>1</td>\n",
       "      <td>0</td>\n",
       "      <td>130</td>\n",
       "      <td>131</td>\n",
       "      <td>0</td>\n",
       "      <td>1</td>\n",
       "      <td>115</td>\n",
       "      <td>1</td>\n",
       "      <td>1.2</td>\n",
       "      <td>1</td>\n",
       "      <td>1</td>\n",
       "      <td>3</td>\n",
       "      <td>0</td>\n",
       "    </tr>\n",
       "    <tr>\n",
       "      <th>302</th>\n",
       "      <td>57</td>\n",
       "      <td>0</td>\n",
       "      <td>1</td>\n",
       "      <td>130</td>\n",
       "      <td>236</td>\n",
       "      <td>0</td>\n",
       "      <td>0</td>\n",
       "      <td>174</td>\n",
       "      <td>0</td>\n",
       "      <td>0.0</td>\n",
       "      <td>1</td>\n",
       "      <td>1</td>\n",
       "      <td>2</td>\n",
       "      <td>0</td>\n",
       "    </tr>\n",
       "  </tbody>\n",
       "</table>\n",
       "<p>303 rows × 14 columns</p>\n",
       "</div>"
      ],
      "text/plain": [
       "     age  sex  cp  trestbps  chol  fbs  restecg  thalach  exang  oldpeak  \\\n",
       "0     63    1   3       145   233    1        0      150      0      2.3   \n",
       "1     37    1   2       130   250    0        1      187      0      3.5   \n",
       "2     41    0   1       130   204    0        0      172      0      1.4   \n",
       "3     56    1   1       120   236    0        1      178      0      0.8   \n",
       "4     57    0   0       120   354    0        1      163      1      0.6   \n",
       "..   ...  ...  ..       ...   ...  ...      ...      ...    ...      ...   \n",
       "298   57    0   0       140   241    0        1      123      1      0.2   \n",
       "299   45    1   3       110   264    0        1      132      0      1.2   \n",
       "300   68    1   0       144   193    1        1      141      0      3.4   \n",
       "301   57    1   0       130   131    0        1      115      1      1.2   \n",
       "302   57    0   1       130   236    0        0      174      0      0.0   \n",
       "\n",
       "     slope  ca  thal  target  \n",
       "0        0   0     1       1  \n",
       "1        0   0     2       1  \n",
       "2        2   0     2       1  \n",
       "3        2   0     2       1  \n",
       "4        2   0     2       1  \n",
       "..     ...  ..   ...     ...  \n",
       "298      1   0     3       0  \n",
       "299      1   0     3       0  \n",
       "300      1   2     3       0  \n",
       "301      1   1     3       0  \n",
       "302      1   1     2       0  \n",
       "\n",
       "[303 rows x 14 columns]"
      ]
     },
     "execution_count": 173,
     "metadata": {},
     "output_type": "execute_result"
    }
   ],
   "source": [
    "# Let's take a look at the dataset in a dataframe \n",
    "dataframe"
   ]
  },
  {
   "cell_type": "code",
   "execution_count": 174,
   "metadata": {},
   "outputs": [
    {
     "name": "stdout",
     "output_type": "stream",
     "text": [
      "<class 'pandas.core.frame.DataFrame'>\n",
      "RangeIndex: 303 entries, 0 to 302\n",
      "Data columns (total 14 columns):\n",
      " #   Column    Non-Null Count  Dtype  \n",
      "---  ------    --------------  -----  \n",
      " 0   age       303 non-null    int64  \n",
      " 1   sex       303 non-null    int64  \n",
      " 2   cp        303 non-null    int64  \n",
      " 3   trestbps  303 non-null    int64  \n",
      " 4   chol      303 non-null    int64  \n",
      " 5   fbs       303 non-null    int64  \n",
      " 6   restecg   303 non-null    int64  \n",
      " 7   thalach   303 non-null    int64  \n",
      " 8   exang     303 non-null    int64  \n",
      " 9   oldpeak   303 non-null    float64\n",
      " 10  slope     303 non-null    int64  \n",
      " 11  ca        303 non-null    int64  \n",
      " 12  thal      303 non-null    int64  \n",
      " 13  target    303 non-null    int64  \n",
      "dtypes: float64(1), int64(13)\n",
      "memory usage: 33.3 KB\n"
     ]
    }
   ],
   "source": [
    "# Understand the dataset such as its dimensions, the data types, memory usage, Non-Null Count\n",
    "dataframe.info()"
   ]
  },
  {
   "cell_type": "code",
   "execution_count": 175,
   "metadata": {},
   "outputs": [
    {
     "data": {
      "text/plain": [
       "False"
      ]
     },
     "execution_count": 175,
     "metadata": {},
     "output_type": "execute_result"
    }
   ],
   "source": [
    "# Data Cleaning\n",
    "\n",
    "# Check to see if there are any missing values\n",
    "dataframe.isnull().values.any()\n",
    "# It appears that there aren't any"
   ]
  },
  {
   "cell_type": "code",
   "execution_count": 176,
   "metadata": {},
   "outputs": [
    {
     "data": {
      "text/html": [
       "<div>\n",
       "<style scoped>\n",
       "    .dataframe tbody tr th:only-of-type {\n",
       "        vertical-align: middle;\n",
       "    }\n",
       "\n",
       "    .dataframe tbody tr th {\n",
       "        vertical-align: top;\n",
       "    }\n",
       "\n",
       "    .dataframe thead th {\n",
       "        text-align: right;\n",
       "    }\n",
       "</style>\n",
       "<table border=\"1\" class=\"dataframe\">\n",
       "  <thead>\n",
       "    <tr style=\"text-align: right;\">\n",
       "      <th></th>\n",
       "      <th>age</th>\n",
       "      <th>sex</th>\n",
       "      <th>cp</th>\n",
       "      <th>trestbps</th>\n",
       "      <th>chol</th>\n",
       "      <th>fbs</th>\n",
       "      <th>restecg</th>\n",
       "      <th>thalach</th>\n",
       "      <th>exang</th>\n",
       "      <th>oldpeak</th>\n",
       "      <th>slope</th>\n",
       "      <th>ca</th>\n",
       "      <th>thal</th>\n",
       "      <th>target</th>\n",
       "    </tr>\n",
       "  </thead>\n",
       "  <tbody>\n",
       "    <tr>\n",
       "      <th>0</th>\n",
       "      <td>False</td>\n",
       "      <td>False</td>\n",
       "      <td>False</td>\n",
       "      <td>False</td>\n",
       "      <td>False</td>\n",
       "      <td>False</td>\n",
       "      <td>False</td>\n",
       "      <td>False</td>\n",
       "      <td>False</td>\n",
       "      <td>False</td>\n",
       "      <td>False</td>\n",
       "      <td>False</td>\n",
       "      <td>False</td>\n",
       "      <td>False</td>\n",
       "    </tr>\n",
       "    <tr>\n",
       "      <th>1</th>\n",
       "      <td>False</td>\n",
       "      <td>False</td>\n",
       "      <td>False</td>\n",
       "      <td>False</td>\n",
       "      <td>False</td>\n",
       "      <td>False</td>\n",
       "      <td>False</td>\n",
       "      <td>False</td>\n",
       "      <td>False</td>\n",
       "      <td>False</td>\n",
       "      <td>False</td>\n",
       "      <td>False</td>\n",
       "      <td>False</td>\n",
       "      <td>False</td>\n",
       "    </tr>\n",
       "    <tr>\n",
       "      <th>2</th>\n",
       "      <td>False</td>\n",
       "      <td>False</td>\n",
       "      <td>False</td>\n",
       "      <td>False</td>\n",
       "      <td>False</td>\n",
       "      <td>False</td>\n",
       "      <td>False</td>\n",
       "      <td>False</td>\n",
       "      <td>False</td>\n",
       "      <td>False</td>\n",
       "      <td>False</td>\n",
       "      <td>False</td>\n",
       "      <td>False</td>\n",
       "      <td>False</td>\n",
       "    </tr>\n",
       "    <tr>\n",
       "      <th>3</th>\n",
       "      <td>False</td>\n",
       "      <td>False</td>\n",
       "      <td>False</td>\n",
       "      <td>False</td>\n",
       "      <td>False</td>\n",
       "      <td>False</td>\n",
       "      <td>False</td>\n",
       "      <td>False</td>\n",
       "      <td>False</td>\n",
       "      <td>False</td>\n",
       "      <td>False</td>\n",
       "      <td>False</td>\n",
       "      <td>False</td>\n",
       "      <td>False</td>\n",
       "    </tr>\n",
       "    <tr>\n",
       "      <th>4</th>\n",
       "      <td>False</td>\n",
       "      <td>False</td>\n",
       "      <td>False</td>\n",
       "      <td>False</td>\n",
       "      <td>False</td>\n",
       "      <td>False</td>\n",
       "      <td>False</td>\n",
       "      <td>False</td>\n",
       "      <td>False</td>\n",
       "      <td>False</td>\n",
       "      <td>False</td>\n",
       "      <td>False</td>\n",
       "      <td>False</td>\n",
       "      <td>False</td>\n",
       "    </tr>\n",
       "    <tr>\n",
       "      <th>...</th>\n",
       "      <td>...</td>\n",
       "      <td>...</td>\n",
       "      <td>...</td>\n",
       "      <td>...</td>\n",
       "      <td>...</td>\n",
       "      <td>...</td>\n",
       "      <td>...</td>\n",
       "      <td>...</td>\n",
       "      <td>...</td>\n",
       "      <td>...</td>\n",
       "      <td>...</td>\n",
       "      <td>...</td>\n",
       "      <td>...</td>\n",
       "      <td>...</td>\n",
       "    </tr>\n",
       "    <tr>\n",
       "      <th>298</th>\n",
       "      <td>False</td>\n",
       "      <td>False</td>\n",
       "      <td>False</td>\n",
       "      <td>False</td>\n",
       "      <td>False</td>\n",
       "      <td>False</td>\n",
       "      <td>False</td>\n",
       "      <td>False</td>\n",
       "      <td>False</td>\n",
       "      <td>False</td>\n",
       "      <td>False</td>\n",
       "      <td>False</td>\n",
       "      <td>False</td>\n",
       "      <td>False</td>\n",
       "    </tr>\n",
       "    <tr>\n",
       "      <th>299</th>\n",
       "      <td>False</td>\n",
       "      <td>False</td>\n",
       "      <td>False</td>\n",
       "      <td>False</td>\n",
       "      <td>False</td>\n",
       "      <td>False</td>\n",
       "      <td>False</td>\n",
       "      <td>False</td>\n",
       "      <td>False</td>\n",
       "      <td>False</td>\n",
       "      <td>False</td>\n",
       "      <td>False</td>\n",
       "      <td>False</td>\n",
       "      <td>False</td>\n",
       "    </tr>\n",
       "    <tr>\n",
       "      <th>300</th>\n",
       "      <td>False</td>\n",
       "      <td>False</td>\n",
       "      <td>False</td>\n",
       "      <td>False</td>\n",
       "      <td>False</td>\n",
       "      <td>False</td>\n",
       "      <td>False</td>\n",
       "      <td>False</td>\n",
       "      <td>False</td>\n",
       "      <td>False</td>\n",
       "      <td>False</td>\n",
       "      <td>False</td>\n",
       "      <td>False</td>\n",
       "      <td>False</td>\n",
       "    </tr>\n",
       "    <tr>\n",
       "      <th>301</th>\n",
       "      <td>False</td>\n",
       "      <td>False</td>\n",
       "      <td>False</td>\n",
       "      <td>False</td>\n",
       "      <td>False</td>\n",
       "      <td>False</td>\n",
       "      <td>False</td>\n",
       "      <td>False</td>\n",
       "      <td>False</td>\n",
       "      <td>False</td>\n",
       "      <td>False</td>\n",
       "      <td>False</td>\n",
       "      <td>False</td>\n",
       "      <td>False</td>\n",
       "    </tr>\n",
       "    <tr>\n",
       "      <th>302</th>\n",
       "      <td>False</td>\n",
       "      <td>False</td>\n",
       "      <td>False</td>\n",
       "      <td>False</td>\n",
       "      <td>False</td>\n",
       "      <td>False</td>\n",
       "      <td>False</td>\n",
       "      <td>False</td>\n",
       "      <td>False</td>\n",
       "      <td>False</td>\n",
       "      <td>False</td>\n",
       "      <td>False</td>\n",
       "      <td>False</td>\n",
       "      <td>False</td>\n",
       "    </tr>\n",
       "  </tbody>\n",
       "</table>\n",
       "<p>303 rows × 14 columns</p>\n",
       "</div>"
      ],
      "text/plain": [
       "       age    sex     cp  trestbps   chol    fbs  restecg  thalach  exang  \\\n",
       "0    False  False  False     False  False  False    False    False  False   \n",
       "1    False  False  False     False  False  False    False    False  False   \n",
       "2    False  False  False     False  False  False    False    False  False   \n",
       "3    False  False  False     False  False  False    False    False  False   \n",
       "4    False  False  False     False  False  False    False    False  False   \n",
       "..     ...    ...    ...       ...    ...    ...      ...      ...    ...   \n",
       "298  False  False  False     False  False  False    False    False  False   \n",
       "299  False  False  False     False  False  False    False    False  False   \n",
       "300  False  False  False     False  False  False    False    False  False   \n",
       "301  False  False  False     False  False  False    False    False  False   \n",
       "302  False  False  False     False  False  False    False    False  False   \n",
       "\n",
       "     oldpeak  slope     ca   thal  target  \n",
       "0      False  False  False  False   False  \n",
       "1      False  False  False  False   False  \n",
       "2      False  False  False  False   False  \n",
       "3      False  False  False  False   False  \n",
       "4      False  False  False  False   False  \n",
       "..       ...    ...    ...    ...     ...  \n",
       "298    False  False  False  False   False  \n",
       "299    False  False  False  False   False  \n",
       "300    False  False  False  False   False  \n",
       "301    False  False  False  False   False  \n",
       "302    False  False  False  False   False  \n",
       "\n",
       "[303 rows x 14 columns]"
      ]
     },
     "execution_count": 176,
     "metadata": {},
     "output_type": "execute_result"
    }
   ],
   "source": [
    "# Check for NaN values\n",
    "dataframe.isna() \n",
    "# It appears that there aren't any"
   ]
  },
  {
   "cell_type": "code",
   "execution_count": 177,
   "metadata": {},
   "outputs": [
    {
     "data": {
      "text/html": [
       "<div>\n",
       "<style scoped>\n",
       "    .dataframe tbody tr th:only-of-type {\n",
       "        vertical-align: middle;\n",
       "    }\n",
       "\n",
       "    .dataframe tbody tr th {\n",
       "        vertical-align: top;\n",
       "    }\n",
       "\n",
       "    .dataframe thead th {\n",
       "        text-align: right;\n",
       "    }\n",
       "</style>\n",
       "<table border=\"1\" class=\"dataframe\">\n",
       "  <thead>\n",
       "    <tr style=\"text-align: right;\">\n",
       "      <th></th>\n",
       "      <th>age</th>\n",
       "      <th>sex</th>\n",
       "      <th>cp</th>\n",
       "      <th>trestbps</th>\n",
       "      <th>chol</th>\n",
       "      <th>fbs</th>\n",
       "      <th>restecg</th>\n",
       "      <th>thalach</th>\n",
       "      <th>exang</th>\n",
       "      <th>oldpeak</th>\n",
       "      <th>slope</th>\n",
       "      <th>ca</th>\n",
       "      <th>thal</th>\n",
       "      <th>target</th>\n",
       "    </tr>\n",
       "  </thead>\n",
       "  <tbody>\n",
       "    <tr>\n",
       "      <th>count</th>\n",
       "      <td>303.000000</td>\n",
       "      <td>303.000000</td>\n",
       "      <td>303.000000</td>\n",
       "      <td>303.000000</td>\n",
       "      <td>303.000000</td>\n",
       "      <td>303.000000</td>\n",
       "      <td>303.000000</td>\n",
       "      <td>303.000000</td>\n",
       "      <td>303.000000</td>\n",
       "      <td>303.000000</td>\n",
       "      <td>303.000000</td>\n",
       "      <td>303.000000</td>\n",
       "      <td>303.000000</td>\n",
       "      <td>303.000000</td>\n",
       "    </tr>\n",
       "    <tr>\n",
       "      <th>mean</th>\n",
       "      <td>54.366337</td>\n",
       "      <td>0.683168</td>\n",
       "      <td>0.966997</td>\n",
       "      <td>131.623762</td>\n",
       "      <td>246.264026</td>\n",
       "      <td>0.148515</td>\n",
       "      <td>0.528053</td>\n",
       "      <td>149.646865</td>\n",
       "      <td>0.326733</td>\n",
       "      <td>1.039604</td>\n",
       "      <td>1.399340</td>\n",
       "      <td>0.729373</td>\n",
       "      <td>2.313531</td>\n",
       "      <td>0.544554</td>\n",
       "    </tr>\n",
       "    <tr>\n",
       "      <th>std</th>\n",
       "      <td>9.082101</td>\n",
       "      <td>0.466011</td>\n",
       "      <td>1.032052</td>\n",
       "      <td>17.538143</td>\n",
       "      <td>51.830751</td>\n",
       "      <td>0.356198</td>\n",
       "      <td>0.525860</td>\n",
       "      <td>22.905161</td>\n",
       "      <td>0.469794</td>\n",
       "      <td>1.161075</td>\n",
       "      <td>0.616226</td>\n",
       "      <td>1.022606</td>\n",
       "      <td>0.612277</td>\n",
       "      <td>0.498835</td>\n",
       "    </tr>\n",
       "    <tr>\n",
       "      <th>min</th>\n",
       "      <td>29.000000</td>\n",
       "      <td>0.000000</td>\n",
       "      <td>0.000000</td>\n",
       "      <td>94.000000</td>\n",
       "      <td>126.000000</td>\n",
       "      <td>0.000000</td>\n",
       "      <td>0.000000</td>\n",
       "      <td>71.000000</td>\n",
       "      <td>0.000000</td>\n",
       "      <td>0.000000</td>\n",
       "      <td>0.000000</td>\n",
       "      <td>0.000000</td>\n",
       "      <td>0.000000</td>\n",
       "      <td>0.000000</td>\n",
       "    </tr>\n",
       "    <tr>\n",
       "      <th>25%</th>\n",
       "      <td>47.500000</td>\n",
       "      <td>0.000000</td>\n",
       "      <td>0.000000</td>\n",
       "      <td>120.000000</td>\n",
       "      <td>211.000000</td>\n",
       "      <td>0.000000</td>\n",
       "      <td>0.000000</td>\n",
       "      <td>133.500000</td>\n",
       "      <td>0.000000</td>\n",
       "      <td>0.000000</td>\n",
       "      <td>1.000000</td>\n",
       "      <td>0.000000</td>\n",
       "      <td>2.000000</td>\n",
       "      <td>0.000000</td>\n",
       "    </tr>\n",
       "    <tr>\n",
       "      <th>50%</th>\n",
       "      <td>55.000000</td>\n",
       "      <td>1.000000</td>\n",
       "      <td>1.000000</td>\n",
       "      <td>130.000000</td>\n",
       "      <td>240.000000</td>\n",
       "      <td>0.000000</td>\n",
       "      <td>1.000000</td>\n",
       "      <td>153.000000</td>\n",
       "      <td>0.000000</td>\n",
       "      <td>0.800000</td>\n",
       "      <td>1.000000</td>\n",
       "      <td>0.000000</td>\n",
       "      <td>2.000000</td>\n",
       "      <td>1.000000</td>\n",
       "    </tr>\n",
       "    <tr>\n",
       "      <th>75%</th>\n",
       "      <td>61.000000</td>\n",
       "      <td>1.000000</td>\n",
       "      <td>2.000000</td>\n",
       "      <td>140.000000</td>\n",
       "      <td>274.500000</td>\n",
       "      <td>0.000000</td>\n",
       "      <td>1.000000</td>\n",
       "      <td>166.000000</td>\n",
       "      <td>1.000000</td>\n",
       "      <td>1.600000</td>\n",
       "      <td>2.000000</td>\n",
       "      <td>1.000000</td>\n",
       "      <td>3.000000</td>\n",
       "      <td>1.000000</td>\n",
       "    </tr>\n",
       "    <tr>\n",
       "      <th>max</th>\n",
       "      <td>77.000000</td>\n",
       "      <td>1.000000</td>\n",
       "      <td>3.000000</td>\n",
       "      <td>200.000000</td>\n",
       "      <td>564.000000</td>\n",
       "      <td>1.000000</td>\n",
       "      <td>2.000000</td>\n",
       "      <td>202.000000</td>\n",
       "      <td>1.000000</td>\n",
       "      <td>6.200000</td>\n",
       "      <td>2.000000</td>\n",
       "      <td>4.000000</td>\n",
       "      <td>3.000000</td>\n",
       "      <td>1.000000</td>\n",
       "    </tr>\n",
       "  </tbody>\n",
       "</table>\n",
       "</div>"
      ],
      "text/plain": [
       "              age         sex          cp    trestbps        chol         fbs  \\\n",
       "count  303.000000  303.000000  303.000000  303.000000  303.000000  303.000000   \n",
       "mean    54.366337    0.683168    0.966997  131.623762  246.264026    0.148515   \n",
       "std      9.082101    0.466011    1.032052   17.538143   51.830751    0.356198   \n",
       "min     29.000000    0.000000    0.000000   94.000000  126.000000    0.000000   \n",
       "25%     47.500000    0.000000    0.000000  120.000000  211.000000    0.000000   \n",
       "50%     55.000000    1.000000    1.000000  130.000000  240.000000    0.000000   \n",
       "75%     61.000000    1.000000    2.000000  140.000000  274.500000    0.000000   \n",
       "max     77.000000    1.000000    3.000000  200.000000  564.000000    1.000000   \n",
       "\n",
       "          restecg     thalach       exang     oldpeak       slope          ca  \\\n",
       "count  303.000000  303.000000  303.000000  303.000000  303.000000  303.000000   \n",
       "mean     0.528053  149.646865    0.326733    1.039604    1.399340    0.729373   \n",
       "std      0.525860   22.905161    0.469794    1.161075    0.616226    1.022606   \n",
       "min      0.000000   71.000000    0.000000    0.000000    0.000000    0.000000   \n",
       "25%      0.000000  133.500000    0.000000    0.000000    1.000000    0.000000   \n",
       "50%      1.000000  153.000000    0.000000    0.800000    1.000000    0.000000   \n",
       "75%      1.000000  166.000000    1.000000    1.600000    2.000000    1.000000   \n",
       "max      2.000000  202.000000    1.000000    6.200000    2.000000    4.000000   \n",
       "\n",
       "             thal      target  \n",
       "count  303.000000  303.000000  \n",
       "mean     2.313531    0.544554  \n",
       "std      0.612277    0.498835  \n",
       "min      0.000000    0.000000  \n",
       "25%      2.000000    0.000000  \n",
       "50%      2.000000    1.000000  \n",
       "75%      3.000000    1.000000  \n",
       "max      3.000000    1.000000  "
      ]
     },
     "execution_count": 177,
     "metadata": {},
     "output_type": "execute_result"
    }
   ],
   "source": [
    "dataframe.describe(include=\"all\")"
   ]
  },
  {
   "cell_type": "code",
   "execution_count": 178,
   "metadata": {},
   "outputs": [
    {
     "data": {
      "image/png": "[encoded data removed]",
      "text/plain": [
       "<Figure size 1440x1440 with 14 Axes>"
      ]
     },
     "metadata": {},
     "output_type": "display_data"
    }
   ],
   "source": [
    "# Plot the histogram of each input and of the target variable\n",
    "\n",
    "def draw_histograms(df, features, rows, cols):\n",
    "    fig=plt.figure(figsize=(20,20))\n",
    "    \n",
    "    for i, feature in enumerate(features):\n",
    "        ax=fig.add_subplot(rows,cols,i+1)\n",
    "        dataframe[feature].hist(bins = 20 ,ax = ax, facecolor = 'darkblue')\n",
    "        ax.set_title(feature + \" distribution\", color = 'darkred')\n",
    "        \n",
    "    fig.tight_layout()  \n",
    "    plt.show()\n",
    "    \n",
    "draw_histograms(dataframe,dataframe.columns, 6, 3)"
   ]
  },
  {
   "cell_type": "code",
   "execution_count": 179,
   "metadata": {},
   "outputs": [
    {
     "data": {
      "text/plain": [
       "1    165\n",
       "0    138\n",
       "Name: target, dtype: int64"
      ]
     },
     "execution_count": 179,
     "metadata": {},
     "output_type": "execute_result"
    }
   ],
   "source": [
    "# Check the binary values of the target variable\n",
    "\n",
    "dataframe.target.value_counts()"
   ]
  },
  {
   "cell_type": "code",
   "execution_count": 180,
   "metadata": {},
   "outputs": [
    {
     "name": "stdout",
     "output_type": "stream",
     "text": [
      "Patients suffering from heart disease: 45.54%\n",
      "Patients not suffering from heart disease: 54.46%\n"
     ]
    },
    {
     "data": {
      "image/png": "[encoded data removed]",
      "text/plain": [
       "<Figure size 432x288 with 1 Axes>"
      ]
     },
     "metadata": {},
     "output_type": "display_data"
    }
   ],
   "source": [
    "# Draw the plot of the target variable\n",
    "\n",
    "sns.countplot(x = \"target\", data = dataframe, palette=\"bwr\")\n",
    "\n",
    "count_no_disease = len(dataframe[dataframe.target == 0])\n",
    "count_with_disease = len(dataframe[dataframe.target == 1])\n",
    "\n",
    "print(\"Patients suffering from heart disease: {:.2f}%\".format((count_no_disease / (len(dataframe.target)) *100)))\n",
    "print(\"Patients not suffering from heart disease: {:.2f}%\".format((count_with_disease / (len(dataframe.target)) *100)))"
   ]
  },
  {
   "cell_type": "code",
   "execution_count": 181,
   "metadata": {},
   "outputs": [
    {
     "data": {
      "text/plain": [
       "\"It can be observed that the 'cp' as well as 'thalach' are positively strongly correlated to the target variable. The chest pain and the maximum heart rate achieved contribute the most in prediction of presences of a heart disease. The negative strong correlation is also evident between 'exang', 'oldspeak'and 'ca' and the target variable.\""
      ]
     },
     "execution_count": 181,
     "metadata": {},
     "output_type": "execute_result"
    },
    {
     "data": {
      "image/png": "[encoded data removed]",
      "text/plain": [
       "<Figure size 576x432 with 2 Axes>"
      ]
     },
     "metadata": {},
     "output_type": "display_data"
    }
   ],
   "source": [
    "# Plot the correlation matrix of all the variables\n",
    "\n",
    "correlation_matrix = dataframe.corr().round(1)\n",
    "plt.figure(figsize=(8,6))\n",
    "sns.heatmap(correlation_matrix,annot=True,cmap=\"magma\",fmt='.2f')\n",
    "\n",
    "\"It can be observed that the 'cp' as well as 'thalach' are positively strongly correlated to the target variable. The chest pain and the maximum heart rate achieved contribute the most in prediction of presences of a heart disease. The negative strong correlation is also evident between 'exang', 'oldspeak'and 'ca' and the target variable.\""
   ]
  },
  {
   "cell_type": "code",
   "execution_count": 182,
   "metadata": {},
   "outputs": [
    {
     "name": "stdout",
     "output_type": "stream",
     "text": [
      "(303, 31)\n"
     ]
    }
   ],
   "source": [
    "# I noticed that there are categorical variables in the dataset\n",
    "# Convert categorical variable into dummy variables using .get_dummies from pandas - One-Hot Encoding\n",
    "\n",
    "a = pd.get_dummies(dataframe[\"sex\"], prefix = \"sex\")\n",
    "b = pd.get_dummies(dataframe[\"cp\"], prefix = \"cp\")\n",
    "c = pd.get_dummies(dataframe[\"fbs\"], prefix = \"fbs\")\n",
    "d = pd.get_dummies(dataframe[\"restecg\"], prefix = \"restecg\")\n",
    "e = pd.get_dummies(dataframe[\"exang\"],prefix=\"exang\")\n",
    "f = pd.get_dummies(dataframe[\"slope\"],prefix=\"slope\")\n",
    "g = pd.get_dummies(dataframe[\"ca\"],prefix=\"ca\")\n",
    "h = pd.get_dummies(dataframe[\"thal\"], prefix = \"thal\")\n",
    "\n",
    "frames = [dataframe, a, b, c, d, e, f, g ,h]\n",
    "df = pd.concat(frames, axis = 1)\n",
    "df = df.drop(columns = [\"sex\",\"cp\",\"fbs\",\"restecg\", \"exang\",\"slope\", \"ca\",\"thal\"])\n",
    "print(df.shape)"
   ]
  },
  {
   "cell_type": "code",
   "execution_count": 183,
   "metadata": {},
   "outputs": [
    {
     "data": {
      "text/html": [
       "<div>\n",
       "<style scoped>\n",
       "    .dataframe tbody tr th:only-of-type {\n",
       "        vertical-align: middle;\n",
       "    }\n",
       "\n",
       "    .dataframe tbody tr th {\n",
       "        vertical-align: top;\n",
       "    }\n",
       "\n",
       "    .dataframe thead th {\n",
       "        text-align: right;\n",
       "    }\n",
       "</style>\n",
       "<table border=\"1\" class=\"dataframe\">\n",
       "  <thead>\n",
       "    <tr style=\"text-align: right;\">\n",
       "      <th></th>\n",
       "      <th>age</th>\n",
       "      <th>trestbps</th>\n",
       "      <th>chol</th>\n",
       "      <th>thalach</th>\n",
       "      <th>oldpeak</th>\n",
       "      <th>target</th>\n",
       "      <th>sex_0</th>\n",
       "      <th>sex_1</th>\n",
       "      <th>cp_0</th>\n",
       "      <th>cp_1</th>\n",
       "      <th>...</th>\n",
       "      <th>slope_2</th>\n",
       "      <th>ca_0</th>\n",
       "      <th>ca_1</th>\n",
       "      <th>ca_2</th>\n",
       "      <th>ca_3</th>\n",
       "      <th>ca_4</th>\n",
       "      <th>thal_0</th>\n",
       "      <th>thal_1</th>\n",
       "      <th>thal_2</th>\n",
       "      <th>thal_3</th>\n",
       "    </tr>\n",
       "  </thead>\n",
       "  <tbody>\n",
       "    <tr>\n",
       "      <th>0</th>\n",
       "      <td>63</td>\n",
       "      <td>145</td>\n",
       "      <td>233</td>\n",
       "      <td>150</td>\n",
       "      <td>2.3</td>\n",
       "      <td>1</td>\n",
       "      <td>0</td>\n",
       "      <td>1</td>\n",
       "      <td>0</td>\n",
       "      <td>0</td>\n",
       "      <td>...</td>\n",
       "      <td>0</td>\n",
       "      <td>1</td>\n",
       "      <td>0</td>\n",
       "      <td>0</td>\n",
       "      <td>0</td>\n",
       "      <td>0</td>\n",
       "      <td>0</td>\n",
       "      <td>1</td>\n",
       "      <td>0</td>\n",
       "      <td>0</td>\n",
       "    </tr>\n",
       "    <tr>\n",
       "      <th>1</th>\n",
       "      <td>37</td>\n",
       "      <td>130</td>\n",
       "      <td>250</td>\n",
       "      <td>187</td>\n",
       "      <td>3.5</td>\n",
       "      <td>1</td>\n",
       "      <td>0</td>\n",
       "      <td>1</td>\n",
       "      <td>0</td>\n",
       "      <td>0</td>\n",
       "      <td>...</td>\n",
       "      <td>0</td>\n",
       "      <td>1</td>\n",
       "      <td>0</td>\n",
       "      <td>0</td>\n",
       "      <td>0</td>\n",
       "      <td>0</td>\n",
       "      <td>0</td>\n",
       "      <td>0</td>\n",
       "      <td>1</td>\n",
       "      <td>0</td>\n",
       "    </tr>\n",
       "    <tr>\n",
       "      <th>2</th>\n",
       "      <td>41</td>\n",
       "      <td>130</td>\n",
       "      <td>204</td>\n",
       "      <td>172</td>\n",
       "      <td>1.4</td>\n",
       "      <td>1</td>\n",
       "      <td>1</td>\n",
       "      <td>0</td>\n",
       "      <td>0</td>\n",
       "      <td>1</td>\n",
       "      <td>...</td>\n",
       "      <td>1</td>\n",
       "      <td>1</td>\n",
       "      <td>0</td>\n",
       "      <td>0</td>\n",
       "      <td>0</td>\n",
       "      <td>0</td>\n",
       "      <td>0</td>\n",
       "      <td>0</td>\n",
       "      <td>1</td>\n",
       "      <td>0</td>\n",
       "    </tr>\n",
       "    <tr>\n",
       "      <th>3</th>\n",
       "      <td>56</td>\n",
       "      <td>120</td>\n",
       "      <td>236</td>\n",
       "      <td>178</td>\n",
       "      <td>0.8</td>\n",
       "      <td>1</td>\n",
       "      <td>0</td>\n",
       "      <td>1</td>\n",
       "      <td>0</td>\n",
       "      <td>1</td>\n",
       "      <td>...</td>\n",
       "      <td>1</td>\n",
       "      <td>1</td>\n",
       "      <td>0</td>\n",
       "      <td>0</td>\n",
       "      <td>0</td>\n",
       "      <td>0</td>\n",
       "      <td>0</td>\n",
       "      <td>0</td>\n",
       "      <td>1</td>\n",
       "      <td>0</td>\n",
       "    </tr>\n",
       "    <tr>\n",
       "      <th>4</th>\n",
       "      <td>57</td>\n",
       "      <td>120</td>\n",
       "      <td>354</td>\n",
       "      <td>163</td>\n",
       "      <td>0.6</td>\n",
       "      <td>1</td>\n",
       "      <td>1</td>\n",
       "      <td>0</td>\n",
       "      <td>1</td>\n",
       "      <td>0</td>\n",
       "      <td>...</td>\n",
       "      <td>1</td>\n",
       "      <td>1</td>\n",
       "      <td>0</td>\n",
       "      <td>0</td>\n",
       "      <td>0</td>\n",
       "      <td>0</td>\n",
       "      <td>0</td>\n",
       "      <td>0</td>\n",
       "      <td>1</td>\n",
       "      <td>0</td>\n",
       "    </tr>\n",
       "    <tr>\n",
       "      <th>...</th>\n",
       "      <td>...</td>\n",
       "      <td>...</td>\n",
       "      <td>...</td>\n",
       "      <td>...</td>\n",
       "      <td>...</td>\n",
       "      <td>...</td>\n",
       "      <td>...</td>\n",
       "      <td>...</td>\n",
       "      <td>...</td>\n",
       "      <td>...</td>\n",
       "      <td>...</td>\n",
       "      <td>...</td>\n",
       "      <td>...</td>\n",
       "      <td>...</td>\n",
       "      <td>...</td>\n",
       "      <td>...</td>\n",
       "      <td>...</td>\n",
       "      <td>...</td>\n",
       "      <td>...</td>\n",
       "      <td>...</td>\n",
       "      <td>...</td>\n",
       "    </tr>\n",
       "    <tr>\n",
       "      <th>298</th>\n",
       "      <td>57</td>\n",
       "      <td>140</td>\n",
       "      <td>241</td>\n",
       "      <td>123</td>\n",
       "      <td>0.2</td>\n",
       "      <td>0</td>\n",
       "      <td>1</td>\n",
       "      <td>0</td>\n",
       "      <td>1</td>\n",
       "      <td>0</td>\n",
       "      <td>...</td>\n",
       "      <td>0</td>\n",
       "      <td>1</td>\n",
       "      <td>0</td>\n",
       "      <td>0</td>\n",
       "      <td>0</td>\n",
       "      <td>0</td>\n",
       "      <td>0</td>\n",
       "      <td>0</td>\n",
       "      <td>0</td>\n",
       "      <td>1</td>\n",
       "    </tr>\n",
       "    <tr>\n",
       "      <th>299</th>\n",
       "      <td>45</td>\n",
       "      <td>110</td>\n",
       "      <td>264</td>\n",
       "      <td>132</td>\n",
       "      <td>1.2</td>\n",
       "      <td>0</td>\n",
       "      <td>0</td>\n",
       "      <td>1</td>\n",
       "      <td>0</td>\n",
       "      <td>0</td>\n",
       "      <td>...</td>\n",
       "      <td>0</td>\n",
       "      <td>1</td>\n",
       "      <td>0</td>\n",
       "      <td>0</td>\n",
       "      <td>0</td>\n",
       "      <td>0</td>\n",
       "      <td>0</td>\n",
       "      <td>0</td>\n",
       "      <td>0</td>\n",
       "      <td>1</td>\n",
       "    </tr>\n",
       "    <tr>\n",
       "      <th>300</th>\n",
       "      <td>68</td>\n",
       "      <td>144</td>\n",
       "      <td>193</td>\n",
       "      <td>141</td>\n",
       "      <td>3.4</td>\n",
       "      <td>0</td>\n",
       "      <td>0</td>\n",
       "      <td>1</td>\n",
       "      <td>1</td>\n",
       "      <td>0</td>\n",
       "      <td>...</td>\n",
       "      <td>0</td>\n",
       "      <td>0</td>\n",
       "      <td>0</td>\n",
       "      <td>1</td>\n",
       "      <td>0</td>\n",
       "      <td>0</td>\n",
       "      <td>0</td>\n",
       "      <td>0</td>\n",
       "      <td>0</td>\n",
       "      <td>1</td>\n",
       "    </tr>\n",
       "    <tr>\n",
       "      <th>301</th>\n",
       "      <td>57</td>\n",
       "      <td>130</td>\n",
       "      <td>131</td>\n",
       "      <td>115</td>\n",
       "      <td>1.2</td>\n",
       "      <td>0</td>\n",
       "      <td>0</td>\n",
       "      <td>1</td>\n",
       "      <td>1</td>\n",
       "      <td>0</td>\n",
       "      <td>...</td>\n",
       "      <td>0</td>\n",
       "      <td>0</td>\n",
       "      <td>1</td>\n",
       "      <td>0</td>\n",
       "      <td>0</td>\n",
       "      <td>0</td>\n",
       "      <td>0</td>\n",
       "      <td>0</td>\n",
       "      <td>0</td>\n",
       "      <td>1</td>\n",
       "    </tr>\n",
       "    <tr>\n",
       "      <th>302</th>\n",
       "      <td>57</td>\n",
       "      <td>130</td>\n",
       "      <td>236</td>\n",
       "      <td>174</td>\n",
       "      <td>0.0</td>\n",
       "      <td>0</td>\n",
       "      <td>1</td>\n",
       "      <td>0</td>\n",
       "      <td>0</td>\n",
       "      <td>1</td>\n",
       "      <td>...</td>\n",
       "      <td>0</td>\n",
       "      <td>0</td>\n",
       "      <td>1</td>\n",
       "      <td>0</td>\n",
       "      <td>0</td>\n",
       "      <td>0</td>\n",
       "      <td>0</td>\n",
       "      <td>0</td>\n",
       "      <td>1</td>\n",
       "      <td>0</td>\n",
       "    </tr>\n",
       "  </tbody>\n",
       "</table>\n",
       "<p>303 rows × 31 columns</p>\n",
       "</div>"
      ],
      "text/plain": [
       "     age  trestbps  chol  thalach  oldpeak  target  sex_0  sex_1  cp_0  cp_1  \\\n",
       "0     63       145   233      150      2.3       1      0      1     0     0   \n",
       "1     37       130   250      187      3.5       1      0      1     0     0   \n",
       "2     41       130   204      172      1.4       1      1      0     0     1   \n",
       "3     56       120   236      178      0.8       1      0      1     0     1   \n",
       "4     57       120   354      163      0.6       1      1      0     1     0   \n",
       "..   ...       ...   ...      ...      ...     ...    ...    ...   ...   ...   \n",
       "298   57       140   241      123      0.2       0      1      0     1     0   \n",
       "299   45       110   264      132      1.2       0      0      1     0     0   \n",
       "300   68       144   193      141      3.4       0      0      1     1     0   \n",
       "301   57       130   131      115      1.2       0      0      1     1     0   \n",
       "302   57       130   236      174      0.0       0      1      0     0     1   \n",
       "\n",
       "     ...  slope_2  ca_0  ca_1  ca_2  ca_3  ca_4  thal_0  thal_1  thal_2  \\\n",
       "0    ...        0     1     0     0     0     0       0       1       0   \n",
       "1    ...        0     1     0     0     0     0       0       0       1   \n",
       "2    ...        1     1     0     0     0     0       0       0       1   \n",
       "3    ...        1     1     0     0     0     0       0       0       1   \n",
       "4    ...        1     1     0     0     0     0       0       0       1   \n",
       "..   ...      ...   ...   ...   ...   ...   ...     ...     ...     ...   \n",
       "298  ...        0     1     0     0     0     0       0       0       0   \n",
       "299  ...        0     1     0     0     0     0       0       0       0   \n",
       "300  ...        0     0     0     1     0     0       0       0       0   \n",
       "301  ...        0     0     1     0     0     0       0       0       0   \n",
       "302  ...        0     0     1     0     0     0       0       0       1   \n",
       "\n",
       "     thal_3  \n",
       "0         0  \n",
       "1         0  \n",
       "2         0  \n",
       "3         0  \n",
       "4         0  \n",
       "..      ...  \n",
       "298       1  \n",
       "299       1  \n",
       "300       1  \n",
       "301       1  \n",
       "302       0  \n",
       "\n",
       "[303 rows x 31 columns]"
      ]
     },
     "execution_count": 183,
     "metadata": {},
     "output_type": "execute_result"
    }
   ],
   "source": [
    "df"
   ]
  },
  {
   "cell_type": "code",
   "execution_count": 184,
   "metadata": {},
   "outputs": [],
   "source": [
    "#--------------------------------------------------- Prepare dataset -----------------------------------------------------------\n",
    "\n",
    "# Separate the output from the input values\n",
    "\n",
    "y = df.target.values  # the target variable\n",
    "x = df.drop([\"target\"], axis = 1) # the input variables without the target\n",
    "\n",
    "\n",
    "# Normalize the input variables\n",
    "\n",
    "X = (x - np.min(x))/(np.max(x) - np.min(x)).values # scales the data range to [0,1]"
   ]
  },
  {
   "cell_type": "code",
   "execution_count": 185,
   "metadata": {},
   "outputs": [
    {
     "name": "stdout",
     "output_type": "stream",
     "text": [
      "(242, 30)\n",
      "(61, 30)\n",
      "(242,)\n",
      "(61,)\n"
     ]
    }
   ],
   "source": [
    "# Split the data into train and test sets, 80% training 20% test\n",
    "\n",
    "X_train, X_test, Y_train, Y_test = train_test_split(X, y, test_size = 0.2,train_size = 0.8, random_state=5)\n",
    "print(X_train.shape)\n",
    "print(X_test.shape)\n",
    "print(Y_train.shape)\n",
    "print(Y_test.shape)"
   ]
  },
  {
   "cell_type": "code",
   "execution_count": 186,
   "metadata": {},
   "outputs": [
    {
     "name": "stdout",
     "output_type": "stream",
     "text": [
      "Number of iterations: [34]\n",
      "Accuracy of Logistic Regression model - train set: 86.36363636363636%\n",
      "Accuracy of Logistic Regression model - test set: 91.80327868852459%\n",
      "\n",
      "The Beta parameters: [[ 0.05265972 -0.78296953 -0.45695266  0.84608961 -0.84977666  0.58184258\n",
      "  -0.58185115 -0.95237337 -0.00842345  0.49950628  0.46128196 -0.11568452\n",
      "   0.11567595 -0.15712864  0.42817846 -0.2710584   0.49259784 -0.49260642\n",
      "  -0.10536573 -0.46003463  0.56539179  1.23159706 -0.39976851 -1.09966119\n",
      "  -0.37968922  0.6475133  -0.25968812  0.26192248  0.68420241 -0.68644534]]\n",
      "\n",
      "The Intercept (bias): [-0.18140308]\n",
      "\n",
      "Model performance for train set\n",
      "-------------------------------\n",
      "R2 score: 44.817578772802655%\n",
      "RMSE: 13.636363636363635%\n",
      "\n",
      "Model performance for test set\n",
      "-------------------------------\n",
      "R2 score: 67.20430107526882%\n",
      "RMSE: 8.19672131147541%\n"
     ]
    }
   ],
   "source": [
    "#----------------------------------------- Train a logistic regression model (LR) ---------------------------------------------\n",
    "LR = LogisticRegression()\n",
    "\n",
    "# Train the model using train set\n",
    "LR.fit(X_train, Y_train)\n",
    "\n",
    "print(\"Number of iterations: {}\".format(LR.n_iter_))\n",
    "\n",
    "# Model evaluation for test set (predicted values of y given the X_test data), Make predictions using the test set\n",
    "y_test_predict = LR.predict(X_test)\n",
    "\n",
    "# Model evaluation using the train set (predicted values of y given the X_train data)\n",
    "y_train_predict = LR.predict(X_train)\n",
    "\n",
    "# Calculate accuracy of Logistic regression model\n",
    "LR1_accuracy = metrics.accuracy_score(Y_train,y_train_predict)*100\n",
    "LR_accuracy = metrics.accuracy_score(Y_test,y_test_predict)*100\n",
    "\n",
    "print(\"Accuracy of Logistic Regression model - train set: {}%\".format(LR1_accuracy))\n",
    "print(\"Accuracy of Logistic Regression model - test set: {}%\".format(LR_accuracy))\n",
    "print()\n",
    "print(\"The Beta parameters:\", LR.coef_)\n",
    "print()\n",
    "print(\"The Intercept (bias):\", LR.intercept_) \n",
    "\n",
    "# RMSE and R-squared for train set\n",
    "r2 = metrics.r2_score(Y_train, y_train_predict)*100\n",
    "rmse = metrics.mean_squared_error(Y_train, y_train_predict)*100\n",
    "\n",
    "print()\n",
    "print(\"Model performance for train set\")\n",
    "print(\"-------------------------------\")\n",
    "print(\"R2 score: {}%\".format(r2))\n",
    "print(\"RMSE: {}%\".format(rmse))\n",
    "\n",
    "# RMSE and R-squared for test set, 1 is perfect prediction\n",
    "r_squared = metrics.r2_score(Y_test, y_test_predict)*100\n",
    "rmse = metrics.mean_squared_error(Y_test, y_test_predict)*100\n",
    "\n",
    "print()\n",
    "print(\"Model performance for test set\")\n",
    "print(\"-------------------------------\")\n",
    "print(\"R2 score: {}%\".format(r_squared))\n",
    "print(\"RMSE: {}%\".format(rmse))"
   ]
  },
  {
   "cell_type": "code",
   "execution_count": 187,
   "metadata": {},
   "outputs": [
    {
     "data": {
      "image/png": "[encoded data removed]",
      "text/plain": [
       "<Figure size 576x360 with 2 Axes>"
      ]
     },
     "metadata": {},
     "output_type": "display_data"
    },
    {
     "name": "stdout",
     "output_type": "stream",
     "text": [
      "Classification report of LR Confusion matrix - Train set :\n",
      "               precision    recall  f1-score   support\n",
      "\n",
      "           0       0.86      0.82      0.84       108\n",
      "           1       0.86      0.90      0.88       134\n",
      "\n",
      "    accuracy                           0.86       242\n",
      "   macro avg       0.86      0.86      0.86       242\n",
      "weighted avg       0.86      0.86      0.86       242\n",
      "\n"
     ]
    },
    {
     "data": {
      "text/plain": [
       "'The confusion matrix shows that 120 patients were predicted that they will suffer from heart diseases and are likely to have heart attack, the prediction was CORRECT (True-Positive). 89 patients were predicted that they will not suffer from heart diseases, the prediction was CORRECT (True-Negative). 19 patients were predicted that they will suffer from heart diseases and are likely to have heart attack, but the prediction was WRONG (False-Positive). 14 patients were predicted that they will not suffer from heart diseases, but the prediction was WRONG (False-Negative). The classification report of the model shows that 86% prediction concerning more chance of heart attack (1) was predicted correctly and 86% concerning less chance of heart attack (0) was predicted correctly.'"
      ]
     },
     "execution_count": 187,
     "metadata": {},
     "output_type": "execute_result"
    }
   ],
   "source": [
    "# Create confusion matrix of LR - train set\n",
    "\n",
    "CM_LR1 = confusion_matrix(Y_train,y_train_predict)\n",
    "\n",
    "# Visualize the confusion matrix\n",
    "\n",
    "conf_matrix = pd.DataFrame(data = CM_LR1, columns = [\"Predicted:0\", \"Predicted:1\"], index =[\"True:0\", \"True:1\"])\n",
    "plt.figure(figsize = (8, 5))\n",
    "sns.heatmap(conf_matrix, annot = True, fmt = \"d\", cmap = \"Spectral\")\n",
    "plt.show()\n",
    "\n",
    "# Get the classificatin report from the confusion matrix\n",
    "\n",
    "print(\"Classification report of LR Confusion matrix - Train set :\\n\",classification_report(Y_train,y_train_predict))\n",
    "\n",
    "\"The confusion matrix shows that 120 patients were predicted that they will suffer from heart diseases and are likely to have heart attack, the prediction was CORRECT (True-Positive). 89 patients were predicted that they will not suffer from heart diseases, the prediction was CORRECT (True-Negative). 19 patients were predicted that they will suffer from heart diseases and are likely to have heart attack, but the prediction was WRONG (False-Positive). 14 patients were predicted that they will not suffer from heart diseases, but the prediction was WRONG (False-Negative). The classification report of the model shows that 86% prediction concerning more chance of heart attack (1) was predicted correctly and 86% concerning less chance of heart attack (0) was predicted correctly.\""
   ]
  },
  {
   "cell_type": "code",
   "execution_count": 188,
   "metadata": {},
   "outputs": [
    {
     "data": {
      "image/png": "[encoded data removed]",
      "text/plain": [
       "<Figure size 576x360 with 2 Axes>"
      ]
     },
     "metadata": {},
     "output_type": "display_data"
    },
    {
     "name": "stdout",
     "output_type": "stream",
     "text": [
      "Classification report of LR  Confusion matrix - Test set:\n",
      "               precision    recall  f1-score   support\n",
      "\n",
      "           0       0.93      0.90      0.92        30\n",
      "           1       0.91      0.94      0.92        31\n",
      "\n",
      "    accuracy                           0.92        61\n",
      "   macro avg       0.92      0.92      0.92        61\n",
      "weighted avg       0.92      0.92      0.92        61\n",
      "\n"
     ]
    },
    {
     "data": {
      "text/plain": [
       "'The confusion matrix shows that 29 patients were predicted that they will suffer from heart diseases and are likely to have heart attack, the prediction was CORRECT (True-Positive). 27 patients were predicted that they will not suffer from heart diseases, the prediction was CORRECT (True-Negative). 3 patients were predicted that they will suffer from heart diseases and are likely to have heart attack, but the prediction was WRONG (False-Positive). 2 patients were predicted that they will not suffer from heart diseases, but the prediction was WRONG (False-Negative). The classification report of the model shows that 91% prediction concerning more chance of heart attack (1) was predicted correctly and 93% concerning less chance of heart attack (0) was predicted correctly.'"
      ]
     },
     "execution_count": 188,
     "metadata": {},
     "output_type": "execute_result"
    }
   ],
   "source": [
    "# Create confusion matrix of LR - test set\n",
    "\n",
    "CM_LR = confusion_matrix(Y_test,y_test_predict)\n",
    "\n",
    "# Visualize the confusion matrix\n",
    "\n",
    "conf_matrix = pd.DataFrame(data = CM_LR, columns = [\"Predicted:0\", \"Predicted:1\"], index =[\"True:0\", \"True:1\"])\n",
    "plt.figure(figsize = (8, 5))\n",
    "sns.heatmap(conf_matrix, annot = True, fmt = \"d\", cmap = \"Spectral\")\n",
    "plt.show()\n",
    "\n",
    "# Get the classificatin report from the confusion matrix\n",
    "\n",
    "print(\"Classification report of LR  Confusion matrix - Test set:\\n\",classification_report(Y_test,y_test_predict))\n",
    "\n",
    "\"The confusion matrix shows that 29 patients were predicted that they will suffer from heart diseases and are likely to have heart attack, the prediction was CORRECT (True-Positive). 27 patients were predicted that they will not suffer from heart diseases, the prediction was CORRECT (True-Negative). 3 patients were predicted that they will suffer from heart diseases and are likely to have heart attack, but the prediction was WRONG (False-Positive). 2 patients were predicted that they will not suffer from heart diseases, but the prediction was WRONG (False-Negative). The classification report of the model shows that 91% prediction concerning more chance of heart attack (1) was predicted correctly and 93% concerning less chance of heart attack (0) was predicted correctly.\""
   ]
  },
  {
   "cell_type": "code",
   "execution_count": 189,
   "metadata": {},
   "outputs": [
    {
     "name": "stdout",
     "output_type": "stream",
     "text": [
      "Sensitivity: 93.54838709677419\n",
      "\n",
      "Specificity: 90.0\n",
      "\n",
      "Positive Predictive Value: 90.625\n",
      "\n",
      "Negative Predictive Value: 93.10344827586206\n",
      "\n"
     ]
    },
    {
     "data": {
      "text/plain": [
       "'It is evident that the logistic regression model is more sensitive than specific. It means that the model is able to identify the 93% of the patients who suffer from heart diseases and the 90% of the patients who do not. The high Positive Predictive Value can tell the patient the odds of having a heart disease in case of a positive result, while the even higher Negative Predictive value can surely tell the patient that the negative test result is accurate.'"
      ]
     },
     "execution_count": 189,
     "metadata": {},
     "output_type": "execute_result"
    }
   ],
   "source": [
    "# Only for the test set\n",
    "\n",
    "TN = CM_LR[0,0] # True Negative\n",
    "TP = CM_LR[1,1] # True Positive\n",
    "FN = CM_LR[1,0] # False Negative\n",
    "FP = CM_LR[0,1] # False Positive\n",
    "\n",
    "sensitivity = TP / float(TP + FN)\n",
    "specificity = TN / float(TN + FP)\n",
    "\n",
    "print(\"Sensitivity:\", TP / float(TP + FN)*100) # Calculate TP/(TP+FN), true positive rate\n",
    "print()\n",
    "print(\"Specificity:\",TN / float(TN + FP)*100) # Calculate TN/(TN+FP), true negative rate\n",
    "print()\n",
    "print(\"Positive Predictive Value:\",TP / float(TP + FP)*100) # Calculate TP/(TP+FP)\n",
    "print()\n",
    "print(\"Negative Predictive Value:\",TN / float(TN + FN)*100) # Calculate TN/(TN+FN)\n",
    "print()\n",
    "\n",
    "\"It is evident that the logistic regression model is more sensitive than specific. It means that the model is able to identify the 93% of the patients who suffer from heart diseases and the 90% of the patients who do not. The high Positive Predictive Value can tell the patient the odds of having a heart disease in case of a positive result, while the even higher Negative Predictive value can surely tell the patient that the negative test result is accurate.\""
   ]
  },
  {
   "cell_type": "code",
   "execution_count": 190,
   "metadata": {},
   "outputs": [
    {
     "data": {
      "image/png": "[encoded data removed]",
      "text/plain": [
       "<Figure size 432x288 with 1 Axes>"
      ]
     },
     "metadata": {},
     "output_type": "display_data"
    },
    {
     "name": "stdout",
     "output_type": "stream",
     "text": [
      "Accuracy of the ROC curve: 85.97982310668878\n"
     ]
    }
   ],
   "source": [
    "# Plot ROC curve to visualize the performance of the LR model - train sets\n",
    "\n",
    "fpr, tpr, thresholds = roc_curve(Y_train,y_train_predict)\n",
    "roc_auc = auc(fpr, tpr)\n",
    "\n",
    "plt.title('ROC curve for the logistic regression model - Train set')\n",
    "plt.plot(fpr, tpr, 'b', label = 'AUC = %0.2f' % roc_auc)\n",
    "plt.legend(loc = 'lower right')\n",
    "plt.plot([0, 1], [0, 1],'r--')\n",
    "plt.xlim([0, 1])\n",
    "plt.ylim([0, 1])\n",
    "plt.grid(True)\n",
    "plt.ylabel('True Positive Rate')\n",
    "plt.xlabel('False Positive Rate')\n",
    "plt.show()\n",
    "print(\"Accuracy of the ROC curve:\",metrics.roc_auc_score(Y_train,y_train_predict)*100)"
   ]
  },
  {
   "cell_type": "code",
   "execution_count": 191,
   "metadata": {},
   "outputs": [
    {
     "data": {
      "image/png": "[encoded data removed]",
      "text/plain": [
       "<Figure size 432x288 with 1 Axes>"
      ]
     },
     "metadata": {},
     "output_type": "display_data"
    },
    {
     "name": "stdout",
     "output_type": "stream",
     "text": [
      "Accuracy of the ROC curve: 91.77419354838709\n"
     ]
    }
   ],
   "source": [
    "# Plot ROC curve to visualize the performance of the LR model - test sets\n",
    "\n",
    "fpr, tpr, thresholds = roc_curve(Y_test, y_test_predict)\n",
    "roc_auc = auc(fpr, tpr)\n",
    "\n",
    "plt.title('ROC curve for the logistic regression model - Test set')\n",
    "plt.plot(fpr, tpr, 'b', label = 'AUC = %0.2f' % roc_auc)\n",
    "plt.legend(loc = 'lower right')\n",
    "plt.plot([0, 1], [0, 1],'r--')\n",
    "plt.xlim([0, 1])\n",
    "plt.ylim([0, 1])\n",
    "plt.grid(True)\n",
    "plt.ylabel('True Positive Rate')\n",
    "plt.xlabel('False Positive Rate')\n",
    "plt.show()\n",
    "print(\"Accuracy of the ROC curve:\",metrics.roc_auc_score(Y_test,y_test_predict)*100)"
   ]
  },
  {
   "cell_type": "code",
   "execution_count": 131,
   "metadata": {},
   "outputs": [
    {
     "name": "stdout",
     "output_type": "stream",
     "text": [
      "Accuracy of SVM with linear kernel and C = 1 - train set: 86.77685950413223% \n",
      "Accuracy of SVM with linear kernel and C = 1 - test set: 90.1639344262295% \n",
      "Confusion matrix of SVM with linear kernel and C = 1:\n",
      " [[26  4]\n",
      " [ 2 29]]\n",
      "Accuracy of SVM with linear kernel and C = 1 - train set: 87.19008264462809% \n",
      "Accuracy of SVM with linear kernel and C = 10 - test set: 86.88524590163934% \n",
      "Confusion matrix of SVM with linear kernel and C = 10:\n",
      " [[26  4]\n",
      " [ 4 27]]\n",
      "Accuracy of SVM with linear kernel and C = 20 - train set: 87.19008264462809% \n",
      "Accuracy of SVM with linear kernel and C = 20 - test set: 85.24590163934425% \n",
      "Confusion matrix of SVM with linear kernel and C = 20:\n",
      " [[25  5]\n",
      " [ 4 27]]\n",
      "Accuracy of SVM with RBF kernel and C = 1 - train set: 85.53719008264463% \n",
      "Accuracy of SVM with RBF kernel and C = 1 - test set: 85.24590163934425% \n",
      "Confusion matrix of SVM with RBF kernel and C = 1:\n",
      " [[25  5]\n",
      " [ 4 27]]\n",
      "Accuracy of SVM with RBF kernel and C = 10 - train set: 85.53719008264463% \n",
      "Accuracy of SVM with RBF kernel and C = 10 - test set: 90.1639344262295% \n",
      "Confusion matrix of SVM with RBF kernel and C = 10\n",
      " [[27  3]\n",
      " [ 3 28]]\n",
      "Accuracy of SVM with RBF kernel and C = 20 - train set: 85.53719008264463% \n",
      "Accuracy of SVM with RBF kernel and C = 20 - test set: 88.52459016393442% \n",
      "Confusion matrix of SVM with RBF kernel and C = 20\n",
      " [[26  4]\n",
      " [ 3 28]]\n"
     ]
    }
   ],
   "source": [
    "#------------------------------------- Train a Support Vector Machine Classifier (SVM) ----------------------------------------\n",
    "\n",
    "#------ Linear function kernel ------\n",
    "\n",
    "# C = 1\n",
    "svclassifier_1 = SVC(C= 1.0, kernel=\"linear\", gamma= \"auto\")\n",
    "\n",
    "svclassifier_1.fit(X_train, Y_train)\n",
    "\n",
    "y_tr1 = svclassifier_1.predict(X_train)\n",
    "y_pred_1 = svclassifier_1.predict(X_test)\n",
    "\n",
    "SVM_accuracy_train1 = metrics.accuracy_score(Y_train, y_tr1)*100\n",
    "SVM_accuracy_1 = metrics.accuracy_score(Y_test, y_pred_1)*100\n",
    "\n",
    "print(\"Accuracy of SVM with linear kernel and C = 1 - train set: {}% \".format(SVM_accuracy_train1))\n",
    "print(\"Accuracy of SVM with linear kernel and C = 1 - test set: {}% \".format(SVM_accuracy_1))\n",
    "print(\"Confusion matrix of SVM with linear kernel and C = 1:\\n\", confusion_matrix(Y_test,y_pred_1))\n",
    "\n",
    "# C = 10\n",
    "svclassifier_2 = SVC(C= 10.0, kernel=\"linear\", gamma= \"auto\")\n",
    "\n",
    "svclassifier_2.fit(X_train, Y_train)\n",
    "\n",
    "y_tr2 = svclassifier_2.predict(X_train)\n",
    "y_pred_2 = svclassifier_2.predict(X_test)\n",
    "\n",
    "SVM_accuracy_train2 = metrics.accuracy_score(Y_train, y_tr2)*100\n",
    "SVM_accuracy_2 = metrics.accuracy_score(Y_test, y_pred_2)*100\n",
    "\n",
    "print(\"Accuracy of SVM with linear kernel and C = 1 - train set: {}% \".format(SVM_accuracy_train2))\n",
    "print(\"Accuracy of SVM with linear kernel and C = 10 - test set: {}% \".format(SVM_accuracy_2))\n",
    "print(\"Confusion matrix of SVM with linear kernel and C = 10:\\n\", confusion_matrix(Y_test,y_pred_2))\n",
    "\n",
    "# C = 20\n",
    "svclassifier_3 = SVC(C= 20.0, kernel=\"linear\", gamma= \"auto\")\n",
    "\n",
    "svclassifier_3.fit(X_train, Y_train)\n",
    "\n",
    "y_tr3 = svclassifier_3.predict(X_train)\n",
    "y_pred_3 = svclassifier_3.predict(X_test)\n",
    "\n",
    "SVM_accuracy_train3 = metrics.accuracy_score(Y_train, y_tr3)*100\n",
    "SVM_accuracy_3 = metrics.accuracy_score(Y_test, y_pred_3)*100\n",
    "\n",
    "print(\"Accuracy of SVM with linear kernel and C = 20 - train set: {}% \".format(SVM_accuracy_train3))\n",
    "print(\"Accuracy of SVM with linear kernel and C = 20 - test set: {}% \".format(SVM_accuracy_3))\n",
    "print(\"Confusion matrix of SVM with linear kernel and C = 20:\\n\" ,confusion_matrix(Y_test,y_pred_3))\n",
    "\n",
    "#------ Radial basis function kernel ------\n",
    "\n",
    "# C = 1\n",
    "svclassifier1 = SVC(C= 1.0, kernel=\"rbf\", gamma= \"auto\")\n",
    "\n",
    "svclassifier1.fit(X_train, Y_train)\n",
    "\n",
    "y_tra1 = svclassifier1.predict(X_train)\n",
    "y_pred1 = svclassifier1.predict(X_test)\n",
    "\n",
    "SVM_accuracy01 = metrics.accuracy_score(Y_train, y_tra1)*100\n",
    "SVM_accuracy1 = metrics.accuracy_score(Y_test, y_pred1)*100\n",
    "\n",
    "print(\"Accuracy of SVM with RBF kernel and C = 1 - train set: {}% \".format(SVM_accuracy01))\n",
    "print(\"Accuracy of SVM with RBF kernel and C = 1 - test set: {}% \".format(SVM_accuracy1))\n",
    "print(\"Confusion matrix of SVM with RBF kernel and C = 1:\\n\" ,confusion_matrix(Y_test,y_pred1))\n",
    "\n",
    "# C = 10\n",
    "svclassifier2 = SVC(C= 10.0, kernel=\"rbf\", gamma= \"auto\")\n",
    "\n",
    "svclassifier2.fit(X_train, Y_train)\n",
    "\n",
    "y_tra2 = svclassifier1.predict(X_train)\n",
    "y_pred2 = svclassifier2.predict(X_test)\n",
    "\n",
    "SVM_accuracy02 = metrics.accuracy_score(Y_train, y_tra2)*100 \n",
    "SVM_accuracy2 = metrics.accuracy_score(Y_test, y_pred2)*100\n",
    "\n",
    "print(\"Accuracy of SVM with RBF kernel and C = 10 - train set: {}% \".format(SVM_accuracy02))\n",
    "print(\"Accuracy of SVM with RBF kernel and C = 10 - test set: {}% \".format(SVM_accuracy2))\n",
    "print(\"Confusion matrix of SVM with RBF kernel and C = 10\\n\" ,confusion_matrix(Y_test,y_pred2))\n",
    "\n",
    "# C = 20\n",
    "svclassifier3 = SVC(C= 20.0, kernel=\"rbf\", gamma= \"auto\")\n",
    "\n",
    "svclassifier3.fit(X_train, Y_train)\n",
    "\n",
    "y_tra3 = svclassifier1.predict(X_train)\n",
    "y_pred3 = svclassifier3.predict(X_test)\n",
    "\n",
    "SVM_accuracy03 = metrics.accuracy_score(Y_train, y_tra3)*100 \n",
    "SVM_accuracy3 = metrics.accuracy_score(Y_test, y_pred3)*100\n",
    "\n",
    "print(\"Accuracy of SVM with RBF kernel and C = 20 - train set: {}% \".format(SVM_accuracy03))\n",
    "print(\"Accuracy of SVM with RBF kernel and C = 20 - test set: {}% \".format(SVM_accuracy3))\n",
    "print(\"Confusion matrix of SVM with RBF kernel and C = 20\\n\" ,confusion_matrix(Y_test,y_pred3))"
   ]
  },
  {
   "cell_type": "code",
   "execution_count": 132,
   "metadata": {},
   "outputs": [
    {
     "name": "stdout",
     "output_type": "stream",
     "text": [
      "Fitting 5 folds for each of 6 candidates, totalling 30 fits\n"
     ]
    },
    {
     "data": {
      "text/plain": [
       "{'C': 1, 'kernel': 'rbf'}"
      ]
     },
     "execution_count": 132,
     "metadata": {},
     "output_type": "execute_result"
    }
   ],
   "source": [
    "# Find the best C parameter and kernel for the SVM using GridSearchCV\n",
    "\n",
    "param_grid = {\"C\":[1,10,20], \"kernel\":[\"linear\",\"rbf\"]}\n",
    "\n",
    "grid = GridSearchCV(param_grid= param_grid, estimator= SVC(probability= True), scoring=\"f1\", refit= True, verbose=1)\n",
    "\n",
    "grid.fit(X_train, Y_train)\n",
    "\n",
    "grid.best_params_\n",
    "\n",
    "# It seems that the best option is the Radial Basis kernel with C = 1"
   ]
  },
  {
   "cell_type": "code",
   "execution_count": 133,
   "metadata": {},
   "outputs": [
    {
     "name": "stdout",
     "output_type": "stream",
     "text": [
      "Accuracy of optimum SVM - Train set: 90.9090909090909%\n",
      "Accuracy of optimum SVM - Test set: 90.1639344262295%\n",
      "\n",
      "Model performance for train set\n",
      "-------------------------------\n",
      "R2 score: 63.21171918186843%\n",
      "RMSE: 9.090909090909092%\n",
      "\n",
      "Model performance for test set\n",
      "-------------------------------\n",
      "R2 score: 60.64516129032258%\n",
      "RMSE: 9.836065573770492%\n"
     ]
    }
   ],
   "source": [
    "# Model evaluation using the train set (predicted values of y given the X_train data)\n",
    "Y_tr = grid.predict(X_train)\n",
    "\n",
    "# Model evaluation using the test set\n",
    "Y_pred = grid.predict(X_test)\n",
    "\n",
    "SVM1_accuracy = metrics.accuracy_score(Y_train, Y_tr)*100\n",
    "SVM_accuracy = metrics.accuracy_score(Y_test, Y_pred)*100\n",
    "\n",
    "print(\"Accuracy of optimum SVM - Train set: {}%\".format(SVM1_accuracy))\n",
    "print(\"Accuracy of optimum SVM - Test set: {}%\".format(SVM_accuracy))\n",
    "\n",
    "# RMSE and R-squared for train set\n",
    "r2 = metrics.r2_score(Y_train, Y_tr)*100\n",
    "rmse = metrics.mean_squared_error(Y_train, Y_tr)*100\n",
    "\n",
    "print()\n",
    "print(\"Model performance for train set\")\n",
    "print(\"-------------------------------\")\n",
    "print(\"R2 score: {}%\".format(r2))\n",
    "print(\"RMSE: {}%\".format(rmse))\n",
    "\n",
    "# RMSE and R-squared for test set, 1 is perfect prediction\n",
    "r_squared = metrics.r2_score(Y_test, Y_pred)*100\n",
    "rmse = metrics.mean_squared_error(Y_test, Y_pred)*100\n",
    "\n",
    "print()\n",
    "print(\"Model performance for test set\")\n",
    "print(\"-------------------------------\")\n",
    "print(\"R2 score: {}%\".format(r_squared))\n",
    "print(\"RMSE: {}%\".format(rmse))"
   ]
  },
  {
   "cell_type": "code",
   "execution_count": 192,
   "metadata": {},
   "outputs": [
    {
     "data": {
      "image/png": "[encoded data removed]",
      "text/plain": [
       "<Figure size 576x360 with 2 Axes>"
      ]
     },
     "metadata": {},
     "output_type": "display_data"
    },
    {
     "name": "stdout",
     "output_type": "stream",
     "text": [
      "Classification report of SVM Confusion matrix - Train set:\n",
      "               precision    recall  f1-score   support\n",
      "\n",
      "           0       0.92      0.87      0.90       108\n",
      "           1       0.90      0.94      0.92       134\n",
      "\n",
      "    accuracy                           0.91       242\n",
      "   macro avg       0.91      0.91      0.91       242\n",
      "weighted avg       0.91      0.91      0.91       242\n",
      "\n"
     ]
    },
    {
     "data": {
      "text/plain": [
       "'The confusion matrix show that 126 patients were predicted that they will suffer from heart diseases and are likely to have heart attack, the prediction was CORRECT (True-Positive). 94 patients were predicted that they will not suffer from heart diseases, the prediction was CORRECT (True-Negative). 14 patients were predicted that they will suffer from heart diseases and are likely to have heart attack, but the prediction was WRONG (False-Positive). 8 patients were predicted that they will not suffer from heart diseases, but the prediction was WRONG (False-Negative).The classification report of the model shows that 90% prediction concerning more chance of heart attack (1) was predicted correctly and 92% concerning less chance of heart attack (0) was predicted correctly.'"
      ]
     },
     "execution_count": 192,
     "metadata": {},
     "output_type": "execute_result"
    }
   ],
   "source": [
    "# Create confusion matrix of optimum SVM - Train set\n",
    "\n",
    "CM_SVM1 = confusion_matrix(Y_train, Y_tr)\n",
    "\n",
    "# Visualize the confusion matrix\n",
    "\n",
    "conf_matrix = pd.DataFrame(data = CM_SVM1, columns = [\"Predicted:0\", \"Predicted:1\"], index =[\"True:0\", \"True:1\"])\n",
    "plt.figure(figsize = (8, 5))\n",
    "sns.heatmap(conf_matrix, annot = True, fmt = \"d\", cmap = \"Spectral\")\n",
    "plt.show()\n",
    "\n",
    "# Get the classificatin report from the confusion matrix\n",
    "\n",
    "print(\"Classification report of SVM Confusion matrix - Train set:\\n\",classification_report(Y_train, Y_tr))\n",
    "\n",
    "\"The confusion matrix show that 126 patients were predicted that they will suffer from heart diseases and are likely to have heart attack, the prediction was CORRECT (True-Positive). 94 patients were predicted that they will not suffer from heart diseases, the prediction was CORRECT (True-Negative). 14 patients were predicted that they will suffer from heart diseases and are likely to have heart attack, but the prediction was WRONG (False-Positive). 8 patients were predicted that they will not suffer from heart diseases, but the prediction was WRONG (False-Negative).The classification report of the model shows that 90% prediction concerning more chance of heart attack (1) was predicted correctly and 92% concerning less chance of heart attack (0) was predicted correctly.\""
   ]
  },
  {
   "cell_type": "code",
   "execution_count": 193,
   "metadata": {},
   "outputs": [
    {
     "data": {
      "image/png": "[encoded data removed]",
      "text/plain": [
       "<Figure size 576x360 with 2 Axes>"
      ]
     },
     "metadata": {},
     "output_type": "display_data"
    },
    {
     "name": "stdout",
     "output_type": "stream",
     "text": [
      "Classification report of SVM Confusion matrix - Test set:\n",
      "               precision    recall  f1-score   support\n",
      "\n",
      "           0       0.93      0.87      0.90        30\n",
      "           1       0.88      0.94      0.91        31\n",
      "\n",
      "    accuracy                           0.90        61\n",
      "   macro avg       0.90      0.90      0.90        61\n",
      "weighted avg       0.90      0.90      0.90        61\n",
      "\n"
     ]
    },
    {
     "data": {
      "text/plain": [
       "'The confusion matrix show that 29 patients were predicted that they will suffer from heart diseases and are likely to have heart attack, the prediction was CORRECT (True-Positive). 26 patients were predicted that they will not suffer from heart diseases, the prediction was CORRECT (True-Negative). 4 patients were predicted that they will suffer from heart diseases and are likely to have heart attack, but the prediction was WRONG (False-Positive). 2 patients were predicted that they will not suffer from heart diseases, but the prediction was WRONG (False-Negative).The classification report of the model shows that 88% prediction concerning more chance of heart attack (1) was predicted correctly and 93% concerning less chance of heart attack (0) was predicted correctly.'"
      ]
     },
     "execution_count": 193,
     "metadata": {},
     "output_type": "execute_result"
    }
   ],
   "source": [
    "# Create confusion matrix of optimum SVM - Test set\n",
    "\n",
    "CM_SVM = confusion_matrix(Y_test,Y_pred)\n",
    "\n",
    "# Visualize the confusion matrix\n",
    "\n",
    "conf_matrix = pd.DataFrame(data = CM_SVM, columns = [\"Predicted:0\", \"Predicted:1\"], index =[\"True:0\", \"True:1\"])\n",
    "plt.figure(figsize = (8, 5))\n",
    "sns.heatmap(conf_matrix, annot = True, fmt = \"d\", cmap = \"Spectral\")\n",
    "plt.show()\n",
    "\n",
    "# Get the classificatin report from the confusion matrix\n",
    "\n",
    "print(\"Classification report of SVM Confusion matrix - Test set:\\n\",classification_report(Y_test,Y_pred))\n",
    "\n",
    "\"The confusion matrix show that 29 patients were predicted that they will suffer from heart diseases and are likely to have heart attack, the prediction was CORRECT (True-Positive). 26 patients were predicted that they will not suffer from heart diseases, the prediction was CORRECT (True-Negative). 4 patients were predicted that they will suffer from heart diseases and are likely to have heart attack, but the prediction was WRONG (False-Positive). 2 patients were predicted that they will not suffer from heart diseases, but the prediction was WRONG (False-Negative).The classification report of the model shows that 88% prediction concerning more chance of heart attack (1) was predicted correctly and 93% concerning less chance of heart attack (0) was predicted correctly.\""
   ]
  },
  {
   "cell_type": "code",
   "execution_count": 194,
   "metadata": {},
   "outputs": [
    {
     "name": "stdout",
     "output_type": "stream",
     "text": [
      "Sensitivity: 93.54838709677419\n",
      "\n",
      "Specificity: 86.66666666666667\n",
      "\n",
      "Positive Predictive Value: 87.87878787878788\n",
      "\n",
      "Negative Predictive Value: 92.85714285714286\n",
      "\n"
     ]
    },
    {
     "data": {
      "text/plain": [
       "'It is evident that the Support Vector Machine classifier is more sensitive than specific.It means that the model is able to identify the 93.5% of the patients who suffer from heart diseases and the 86.6% of the patients who do not. The high Positive Predictive Value can provide satisfactory results that the patient has a heart disease in case of a positive result, whereas the higher Negative Predictive Value can surely tell the 92.8% probability that the patient does not have the disease.'"
      ]
     },
     "execution_count": 194,
     "metadata": {},
     "output_type": "execute_result"
    }
   ],
   "source": [
    "# Only for the test sets of the optimum SVM\n",
    "\n",
    "TN = CM_SVM[0,0] # True Negative\n",
    "TP = CM_SVM[1,1] # True Positive\n",
    "FN = CM_SVM[1,0] # False Negative\n",
    "FP = CM_SVM[0,1] # False Positive\n",
    "\n",
    "sensitivity = TP / float(TP + FN)\n",
    "specificity = TN / float(TN + FP)\n",
    "\n",
    "print(\"Sensitivity:\", TP / float(TP + FN)*100) # Calculate TP/(TP+FN), true positive rate\n",
    "print()\n",
    "print(\"Specificity:\",TN / float(TN + FP)*100) # Calculate TN/(TN+FP), true negative rate\n",
    "print()\n",
    "print(\"Positive Predictive Value:\",TP / float(TP + FP)*100) # Calculate TP/(TP+FP)\n",
    "print()\n",
    "print(\"Negative Predictive Value:\",TN / float(TN + FN)*100) # Calculate TN/(TN+FN)\n",
    "print()\n",
    "\n",
    "\"It is evident that the Support Vector Machine classifier is more sensitive than specific.It means that the model is able to identify the 93.5% of the patients who suffer from heart diseases and the 86.6% of the patients who do not. The high Positive Predictive Value can provide satisfactory results that the patient has a heart disease in case of a positive result, whereas the higher Negative Predictive Value can surely tell the 92.8% probability that the patient does not have the disease.\""
   ]
  },
  {
   "cell_type": "code",
   "execution_count": 195,
   "metadata": {},
   "outputs": [
    {
     "data": {
      "image/png": "[encoded data removed]",
      "text/plain": [
       "<Figure size 432x288 with 1 Axes>"
      ]
     },
     "metadata": {},
     "output_type": "display_data"
    },
    {
     "name": "stdout",
     "output_type": "stream",
     "text": [
      "Accuracy of the ROC curve: 90.53344389165284\n"
     ]
    }
   ],
   "source": [
    "# Plot ROC curve to visualize the performance of the SVM classifier - Train set\n",
    "\n",
    "fpr, tpr, thresholds = roc_curve(Y_train, Y_tr)\n",
    "roc_auc = auc(fpr, tpr)\n",
    "\n",
    "plt.title('ROC curve for the Support Vector Machine classifier - Train set')\n",
    "plt.plot(fpr, tpr, 'b', label = 'AUC = %0.2f' % roc_auc)\n",
    "plt.legend(loc = 'lower right')\n",
    "plt.plot([0, 1], [0, 1],'r--')\n",
    "plt.xlim([0, 1])\n",
    "plt.ylim([0, 1])\n",
    "plt.grid(True)\n",
    "plt.ylabel('True Positive Rate')\n",
    "plt.xlabel('False Positive Rate')\n",
    "plt.show()\n",
    "print(\"Accuracy of the ROC curve:\",metrics.roc_auc_score(Y_train, Y_tr)*100)"
   ]
  },
  {
   "cell_type": "code",
   "execution_count": 196,
   "metadata": {},
   "outputs": [
    {
     "data": {
      "image/png": "[encoded data removed]",
      "text/plain": [
       "<Figure size 432x288 with 1 Axes>"
      ]
     },
     "metadata": {},
     "output_type": "display_data"
    },
    {
     "name": "stdout",
     "output_type": "stream",
     "text": [
      "Accuracy of the ROC curve: 90.10752688172043\n"
     ]
    }
   ],
   "source": [
    "# Plot ROC curve to visualize the performance of the SVM classifier - Test set\n",
    "\n",
    "fpr, tpr, thresholds = roc_curve(Y_test, Y_pred)\n",
    "roc_auc = auc(fpr, tpr)\n",
    "\n",
    "plt.title('ROC curve for the Support Vector Machine classifier - Test set')\n",
    "plt.plot(fpr, tpr, 'b', label = 'AUC = %0.2f' % roc_auc)\n",
    "plt.legend(loc = 'lower right')\n",
    "plt.plot([0, 1], [0, 1],'r--')\n",
    "plt.xlim([0, 1])\n",
    "plt.ylim([0, 1])\n",
    "plt.grid(True)\n",
    "plt.ylabel('True Positive Rate')\n",
    "plt.xlabel('False Positive Rate')\n",
    "plt.show()\n",
    "print(\"Accuracy of the ROC curve:\",metrics.roc_auc_score(Y_test,Y_pred)*100)"
   ]
  },
  {
   "cell_type": "code",
   "execution_count": 197,
   "metadata": {},
   "outputs": [
    {
     "name": "stdout",
     "output_type": "stream",
     "text": [
      "Accuracy of Naive Bayes classifier - train set: 80.16528925619835% \n",
      "Accuracy of Naive Bayes classifier - test set: 83.60655737704919% \n",
      "\n",
      "Model performance for train set\n",
      "-------------------------------\n",
      "R2 score: 19.734660033167494%\n",
      "RMSE: 19.834710743801654%\n",
      "\n",
      "Model performance for test set\n",
      "-------------------------------\n",
      "R2 score: 34.408602150537625%\n",
      "RMSE: 16.39344262295082%\n"
     ]
    }
   ],
   "source": [
    "#------------------------------------------ Train a Naive Bayes Classifier (NB) -----------------------------------------------\n",
    "\n",
    "NB = GaussianNB()\n",
    "\n",
    "# Train the model using train set\n",
    "NB.fit(X_train, Y_train)\n",
    "\n",
    "# Make predictions using the test set\n",
    "y_pred = NB.predict(X_test)\n",
    "\n",
    "# Model evaluation using the train set (predicted values of y given the X_train data)\n",
    "y_tr = NB.predict(X_train)\n",
    "\n",
    "# Calculate accuracy of Naive Bayes Classifier\n",
    "NB1_accuracy = metrics.accuracy_score(Y_train,y_tr)*100\n",
    "NB_accuracy = metrics.accuracy_score(Y_test,y_pred)*100\n",
    "\n",
    "print(\"Accuracy of Naive Bayes classifier - train set: {}% \".format(NB1_accuracy))\n",
    "print(\"Accuracy of Naive Bayes classifier - test set: {}% \".format(NB_accuracy))\n",
    "\n",
    "# RMSE and R-squared for train set\n",
    "r2 = metrics.r2_score(Y_train, y_tr)*100\n",
    "rmse = metrics.mean_squared_error(Y_train, y_tr)*100\n",
    "\n",
    "print()\n",
    "print(\"Model performance for train set\")\n",
    "print(\"-------------------------------\")\n",
    "print(\"R2 score: {}%\".format(r2))\n",
    "print(\"RMSE: {}%\".format(rmse))\n",
    "\n",
    "# RMSE and R-squared for test set, 1 is perfect prediction\n",
    "r_squared = metrics.r2_score(Y_test, y_pred)*100\n",
    "rmse = metrics.mean_squared_error(Y_test, y_pred)*100\n",
    "\n",
    "print()\n",
    "print(\"Model performance for test set\")\n",
    "print(\"-------------------------------\")\n",
    "print(\"R2 score: {}%\".format(r_squared))\n",
    "print(\"RMSE: {}%\".format(rmse))"
   ]
  },
  {
   "cell_type": "code",
   "execution_count": 198,
   "metadata": {},
   "outputs": [
    {
     "data": {
      "image/png": "[encoded data removed]",
      "text/plain": [
       "<Figure size 576x360 with 2 Axes>"
      ]
     },
     "metadata": {},
     "output_type": "display_data"
    },
    {
     "name": "stdout",
     "output_type": "stream",
     "text": [
      "Classification report of NB Confusion matrix - Train set:\n",
      "               precision    recall  f1-score   support\n",
      "\n",
      "           0       0.91      0.62      0.74       108\n",
      "           1       0.76      0.95      0.84       134\n",
      "\n",
      "    accuracy                           0.80       242\n",
      "   macro avg       0.83      0.78      0.79       242\n",
      "weighted avg       0.82      0.80      0.79       242\n",
      "\n"
     ]
    },
    {
     "data": {
      "text/plain": [
       "'The confusion matrix shows that 127 patients were predicted that they will suffer from heart diseases and are likely to have heart attack, the prediction was CORRECT (True-Positive). 67 patients were predicted that they will not suffer from heart diseases, the prediction was CORRECT (True-Negative). 41 patients were predicted that they will suffer from heart diseases and are likely to have heart attack, but the prediction was WRONG (False-Positive). 7 patients were predicted that they will not suffer from heart diseases, but the prediction was WRONG (False-Negative).The classification report of the model shows that 76% prediction concerning more chance of heart attack (1) was predicted correctly and 91% concerning less chance of heart attack (0) was predicted correctly.'"
      ]
     },
     "execution_count": 198,
     "metadata": {},
     "output_type": "execute_result"
    }
   ],
   "source": [
    "# Create confusion matrix of NB - train set\n",
    "\n",
    "CM_NB1 = confusion_matrix(Y_train, y_tr)\n",
    "\n",
    "# Visualize the confusion matrix\n",
    "\n",
    "conf_matrix = pd.DataFrame(data = CM_NB1, columns = [\"Predicted:0\", \"Predicted:1\"], index =[\"True:0\", \"True:1\"])\n",
    "plt.figure(figsize = (8, 5))\n",
    "sns.heatmap(conf_matrix, annot = True, fmt = \"d\", cmap = \"Spectral\")\n",
    "plt.show()\n",
    "\n",
    "# Get the classificatin report from the confusion matrix\n",
    "\n",
    "print(\"Classification report of NB Confusion matrix - Train set:\\n\",classification_report(Y_train, y_tr))\n",
    "\n",
    "\"The confusion matrix shows that 127 patients were predicted that they will suffer from heart diseases and are likely to have heart attack, the prediction was CORRECT (True-Positive). 67 patients were predicted that they will not suffer from heart diseases, the prediction was CORRECT (True-Negative). 41 patients were predicted that they will suffer from heart diseases and are likely to have heart attack, but the prediction was WRONG (False-Positive). 7 patients were predicted that they will not suffer from heart diseases, but the prediction was WRONG (False-Negative).The classification report of the model shows that 76% prediction concerning more chance of heart attack (1) was predicted correctly and 91% concerning less chance of heart attack (0) was predicted correctly.\""
   ]
  },
  {
   "cell_type": "code",
   "execution_count": 199,
   "metadata": {},
   "outputs": [
    {
     "data": {
      "image/png": "[encoded data removed]",
      "text/plain": [
       "<Figure size 576x360 with 2 Axes>"
      ]
     },
     "metadata": {},
     "output_type": "display_data"
    },
    {
     "name": "stdout",
     "output_type": "stream",
     "text": [
      "Classification report of NB Confusion matrix - Test set:\n",
      "               precision    recall  f1-score   support\n",
      "\n",
      "           0       0.92      0.73      0.81        30\n",
      "           1       0.78      0.94      0.85        31\n",
      "\n",
      "    accuracy                           0.84        61\n",
      "   macro avg       0.85      0.83      0.83        61\n",
      "weighted avg       0.85      0.84      0.83        61\n",
      "\n"
     ]
    },
    {
     "data": {
      "text/plain": [
       "'The confusion matrix shows that 29 patients were predicted that they will suffer from heart diseases and are likely to have heart attack, the prediction was CORRECT (True-Positive). 22 patients were predicted that they will not suffer from heart diseases, the prediction was CORRECT (True-Negative). 8 patients were predicted that they will suffer from heart diseases and are likely to have heart attack, but the prediction was WRONG (False-Positive). 2 patients were predicted that they will not suffer from heart diseases, but the prediction was WRONG (False-Negative).The classification report of the model shows that 78% prediction concerning more chance of heart attack (1) was predicted correctly and 92% concerning less chance of heart attack (0) was predicted correctly.'"
      ]
     },
     "execution_count": 199,
     "metadata": {},
     "output_type": "execute_result"
    }
   ],
   "source": [
    "# Create confusion matrix of NB - test set\n",
    "\n",
    "CM_NB = confusion_matrix(Y_test,y_pred)\n",
    "\n",
    "# Visualize the confusion matrix\n",
    "\n",
    "conf_matrix = pd.DataFrame(data = CM_NB, columns = [\"Predicted:0\", \"Predicted:1\"], index =[\"True:0\", \"True:1\"])\n",
    "plt.figure(figsize = (8, 5))\n",
    "sns.heatmap(conf_matrix, annot = True, fmt = \"d\", cmap = \"Spectral\")\n",
    "plt.show()\n",
    "\n",
    "# Get the classificatin report from the confusion matrix\n",
    "\n",
    "print(\"Classification report of NB Confusion matrix - Test set:\\n\",classification_report(Y_test,y_pred))\n",
    "\n",
    "\"The confusion matrix shows that 29 patients were predicted that they will suffer from heart diseases and are likely to have heart attack, the prediction was CORRECT (True-Positive). 22 patients were predicted that they will not suffer from heart diseases, the prediction was CORRECT (True-Negative). 8 patients were predicted that they will suffer from heart diseases and are likely to have heart attack, but the prediction was WRONG (False-Positive). 2 patients were predicted that they will not suffer from heart diseases, but the prediction was WRONG (False-Negative).The classification report of the model shows that 78% prediction concerning more chance of heart attack (1) was predicted correctly and 92% concerning less chance of heart attack (0) was predicted correctly.\""
   ]
  },
  {
   "cell_type": "code",
   "execution_count": 200,
   "metadata": {},
   "outputs": [
    {
     "name": "stdout",
     "output_type": "stream",
     "text": [
      "Sensitivity: 93.54838709677419\n",
      "\n",
      "Specificity: 73.33333333333333\n",
      "\n",
      "Positive Predictive Value: 78.37837837837837\n",
      "\n",
      "Negative Predictive Value: 91.66666666666666\n",
      "\n"
     ]
    },
    {
     "data": {
      "text/plain": [
       "'It is evident that the Naive Bayes classifier is much more sensitive than specific. It means that the model is able to identify the 93.5% of the patients who suffer from heart diseases, but the 73.3% of the patients who do not. The Positive Predictive Value is somewhat satisfactory to tell the patient the odds of having a heart disease in case of a positive result, while the much higher Negative Predictive value can surely tell the patient that the negative test result is accurate.'"
      ]
     },
     "execution_count": 200,
     "metadata": {},
     "output_type": "execute_result"
    }
   ],
   "source": [
    "# Only for the test sets of Naive Bayes classifier\n",
    "\n",
    "TN = CM_NB[0,0] # True Negative\n",
    "TP = CM_NB[1,1] # True Positive\n",
    "FN = CM_NB[1,0] # False Negative\n",
    "FP = CM_NB[0,1] # False Positive\n",
    "\n",
    "sensitivity = TP / float(TP + FN)\n",
    "specificity = TN / float(TN + FP)\n",
    "\n",
    "print(\"Sensitivity:\", TP / float(TP + FN)*100) # Calculate TP/(TP+FN), true positive rate\n",
    "print()\n",
    "print(\"Specificity:\",TN / float(TN + FP)*100) # Calculate TN/(TN+FP), true negative rate\n",
    "print()\n",
    "print(\"Positive Predictive Value:\",TP / float(TP + FP)*100) # Calculate TP/(TP+FP)\n",
    "print()\n",
    "print(\"Negative Predictive Value:\",TN / float(TN + FN)*100) # Calculate TN/(TN+FN)\n",
    "print()\n",
    "\n",
    "\"It is evident that the Naive Bayes classifier is much more sensitive than specific. It means that the model is able to identify the 93.5% of the patients who suffer from heart diseases, but the 73.3% of the patients who do not. The Positive Predictive Value is somewhat satisfactory to tell the patient the odds of having a heart disease in case of a positive result, while the much higher Negative Predictive value can surely tell the patient that the negative test result is accurate.\""
   ]
  },
  {
   "cell_type": "code",
   "execution_count": 201,
   "metadata": {},
   "outputs": [
    {
     "data": {
      "image/png": "[encoded data removed]",
      "text/plain": [
       "<Figure size 432x288 with 1 Axes>"
      ]
     },
     "metadata": {},
     "output_type": "display_data"
    },
    {
     "name": "stdout",
     "output_type": "stream",
     "text": [
      "Accuracy of the ROC curve: 78.40657822001104\n"
     ]
    }
   ],
   "source": [
    "# Plot ROC curve to visualize the performance of the Naive Bayes classifier - Train set\n",
    "\n",
    "fpr, tpr, thresholds = roc_curve(Y_train, y_tr)\n",
    "roc_auc = auc(fpr, tpr)\n",
    "\n",
    "plt.title('ROC curve for the Naive Bayes classifier - Train set')\n",
    "plt.plot(fpr, tpr, 'b', label = 'AUC = %0.2f' % roc_auc)\n",
    "plt.legend(loc = 'lower right')\n",
    "plt.plot([0, 1], [0, 1],'r--')\n",
    "plt.xlim([0, 1])\n",
    "plt.ylim([0, 1])\n",
    "plt.grid(True)\n",
    "plt.ylabel('True Positive Rate')\n",
    "plt.xlabel('False Positive Rate')\n",
    "plt.show()\n",
    "print(\"Accuracy of the ROC curve:\",metrics.roc_auc_score(Y_train, y_tr)*100)"
   ]
  },
  {
   "cell_type": "code",
   "execution_count": 202,
   "metadata": {},
   "outputs": [
    {
     "data": {
      "image/png": "[encoded data removed]",
      "text/plain": [
       "<Figure size 432x288 with 1 Axes>"
      ]
     },
     "metadata": {},
     "output_type": "display_data"
    },
    {
     "name": "stdout",
     "output_type": "stream",
     "text": [
      "Accuracy of the ROC curve: 83.44086021505377\n"
     ]
    }
   ],
   "source": [
    "# Plot ROC curve to visualize the performance of the Naive Bayes classifier - Test set\n",
    "\n",
    "fpr, tpr, thresholds = roc_curve(Y_test, y_pred)\n",
    "roc_auc = auc(fpr, tpr)\n",
    "\n",
    "plt.title('ROC curve for the Naive Bayes classifier - Test set')\n",
    "plt.plot(fpr, tpr, 'b', label = 'AUC = %0.2f' % roc_auc)\n",
    "plt.legend(loc = 'lower right')\n",
    "plt.plot([0, 1], [0, 1],'r--')\n",
    "plt.xlim([0, 1])\n",
    "plt.ylim([0, 1])\n",
    "plt.grid(True)\n",
    "plt.ylabel('True Positive Rate')\n",
    "plt.xlabel('False Positive Rate')\n",
    "plt.show()\n",
    "print(\"Accuracy of the ROC curve:\",metrics.roc_auc_score(Y_test,y_pred)*100)"
   ]
  },
  {
   "cell_type": "code",
   "execution_count": 203,
   "metadata": {},
   "outputs": [
    {
     "name": "stdout",
     "output_type": "stream",
     "text": [
      "Predicted   0   1  All\n",
      "Actual                \n",
      "0          27   3   30\n",
      "1           2  29   31\n",
      "All        29  32   61\n",
      "\n",
      "Classification report of LR  Confusion matrix - Test set:\n",
      "               precision    recall  f1-score   support\n",
      "\n",
      "           0       0.93      0.90      0.92        30\n",
      "           1       0.91      0.94      0.92        31\n",
      "\n",
      "    accuracy                           0.92        61\n",
      "   macro avg       0.92      0.92      0.92        61\n",
      "weighted avg       0.92      0.92      0.92        61\n",
      "\n"
     ]
    }
   ],
   "source": [
    "# View once again the confusion matrix and classification report of each classifier to compare the models and reach conclusions\n",
    "# Logistic Regression Model\n",
    "CM_LR = confusion_matrix(Y_test,y_test_predict)\n",
    "print(pd.crosstab(Y_test, y_test_predict, rownames = ['Actual'], colnames =['Predicted'], margins = True))\n",
    "print()\n",
    "print(\"Classification report of LR  Confusion matrix - Test set:\\n\",classification_report(Y_test,y_test_predict))"
   ]
  },
  {
   "cell_type": "code",
   "execution_count": 204,
   "metadata": {},
   "outputs": [
    {
     "name": "stdout",
     "output_type": "stream",
     "text": [
      "Predicted   0   1  All\n",
      "Actual                \n",
      "0          26   4   30\n",
      "1           2  29   31\n",
      "All        28  33   61\n",
      "\n",
      "Classification report of SVM Confusion matrix - Test set:\n",
      "               precision    recall  f1-score   support\n",
      "\n",
      "           0       0.93      0.87      0.90        30\n",
      "           1       0.88      0.94      0.91        31\n",
      "\n",
      "    accuracy                           0.90        61\n",
      "   macro avg       0.90      0.90      0.90        61\n",
      "weighted avg       0.90      0.90      0.90        61\n",
      "\n"
     ]
    }
   ],
   "source": [
    "# Support Vector Machine Classifier\n",
    "CM_SVM = confusion_matrix(Y_test,Y_pred)\n",
    "print(pd.crosstab(Y_test,Y_pred, rownames = ['Actual'], colnames =['Predicted'], margins = True))\n",
    "print()\n",
    "print(\"Classification report of SVM Confusion matrix - Test set:\\n\",classification_report(Y_test,Y_pred))"
   ]
  },
  {
   "cell_type": "code",
   "execution_count": 205,
   "metadata": {},
   "outputs": [
    {
     "name": "stdout",
     "output_type": "stream",
     "text": [
      "Predicted   0   1  All\n",
      "Actual                \n",
      "0          22   8   30\n",
      "1           2  29   31\n",
      "All        24  37   61\n",
      "\n",
      "Classification report of NB Confusion matrix - Test set:\n",
      "               precision    recall  f1-score   support\n",
      "\n",
      "           0       0.92      0.73      0.81        30\n",
      "           1       0.78      0.94      0.85        31\n",
      "\n",
      "    accuracy                           0.84        61\n",
      "   macro avg       0.85      0.83      0.83        61\n",
      "weighted avg       0.85      0.84      0.83        61\n",
      "\n"
     ]
    }
   ],
   "source": [
    "# Naive Bayes Classifier\n",
    "CM_NB = confusion_matrix(Y_test,y_pred)\n",
    "print(pd.crosstab(Y_test,y_pred, rownames = ['Actual'], colnames =['Predicted'], margins = True))\n",
    "print()\n",
    "print(\"Classification report of NB Confusion matrix - Test set:\\n\",classification_report(Y_test,y_pred))"
   ]
  },
  {
   "cell_type": "code",
   "execution_count": 206,
   "metadata": {},
   "outputs": [
    {
     "data": {
      "text/plain": [
       "'About the confusion matrices: The actual values of the test set are:The patients who actually don’t have a heart disease = 30.The patients who actually have a heart disease = 31. Predicted values of Logistic Regression Matrix:The number of patients who were predicted as not having a heart disease = 29/30.The number of patients who were predicted as having a heart disease = 32/31. Predicted values of Support Vector Machine Matrix:The number of patients who were predicted as not having a heart disease = 28/30.The number of patients who were predicted as having a heart disease = 33/31. Predicted values of Naive Bayes Matrix:The number of patients who were predicted as not having a heart disease = 24/30. The number of patients who were predicted as having a heart disease = 37/31.'"
      ]
     },
     "execution_count": 206,
     "metadata": {},
     "output_type": "execute_result"
    }
   ],
   "source": [
    "\"About the confusion matrices: The actual values of the test set are:The patients who actually don’t have a heart disease = 30.The patients who actually have a heart disease = 31. Predicted values of Logistic Regression Matrix:The number of patients who were predicted as not having a heart disease = 29/30.The number of patients who were predicted as having a heart disease = 32/31. Predicted values of Support Vector Machine Matrix:The number of patients who were predicted as not having a heart disease = 28/30.The number of patients who were predicted as having a heart disease = 33/31. Predicted values of Naive Bayes Matrix:The number of patients who were predicted as not having a heart disease = 24/30. The number of patients who were predicted as having a heart disease = 37/31.\""
   ]
  },
  {
   "cell_type": "code",
   "execution_count": 207,
   "metadata": {},
   "outputs": [
    {
     "data": {
      "text/plain": [
       "'About the classification reports: The precision is the measure of patients that are correctly identified as having a heart disease out of all the patients actually having it.The Logistic Regression model achieves the highest precision with 91%, the SVM classifier follows (88%) with the Naive Bayes classifier achieving the lowest(78%). The recall for correctly identifying a patient who actually has a heart disease is the same for all classifiers and is very high (94%). For the heart dataset, achieving a high recall is more important than achieving a high precision as it is vital to detect as many patients suffering from heart diseases as possible. But a high precision is also essential when it comes to health problems, since a patient can suffer from a heart disease and another ailment as well. Thus, a high F1-score would both indicate good precision and recall. The Logistic Regression model achieves once more the highest f1-score (92%), second the SVM classifier (91%) and last comes the Naive Bayes classifier (85%).'"
      ]
     },
     "execution_count": 207,
     "metadata": {},
     "output_type": "execute_result"
    }
   ],
   "source": [
    "\"About the classification reports: The precision is the measure of patients that are correctly identified as having a heart disease out of all the patients actually having it.The Logistic Regression model achieves the highest precision with 91%, the SVM classifier follows (88%) with the Naive Bayes classifier achieving the lowest(78%). The recall for correctly identifying a patient who actually has a heart disease is the same for all classifiers and is very high (94%). For the heart dataset, achieving a high recall is more important than achieving a high precision as it is vital to detect as many patients suffering from heart diseases as possible. But a high precision is also essential when it comes to health problems, since a patient can suffer from a heart disease and another ailment as well. Thus, a high F1-score would both indicate good precision and recall. The Logistic Regression model achieves once more the highest f1-score (92%), second the SVM classifier (91%) and last comes the Naive Bayes classifier (85%).\""
   ]
  },
  {
   "cell_type": "code",
   "execution_count": 208,
   "metadata": {},
   "outputs": [
    {
     "data": {
      "image/png": "[encoded data removed]",
      "text/plain": [
       "<Figure size 1152x360 with 1 Axes>"
      ]
     },
     "metadata": {},
     "output_type": "display_data"
    }
   ],
   "source": [
    "# Plot the accuracy of the three classifiers for the test sets\n",
    "\n",
    "methods = [\"Logistic Regression\", \"SVM\", \"Naive Bayes\"]\n",
    "accuracy = [LR_accuracy, SVM_accuracy, NB_accuracy]\n",
    "colors = [\"purple\", \"green\", \"orange\"]\n",
    "\n",
    "sns.set_style(\"whitegrid\")\n",
    "plt.figure(figsize=(16,5))\n",
    "plt.yticks(np.arange(0,100,10))\n",
    "plt.ylabel(\"Accuracy %\")\n",
    "plt.xlabel(\"Algorithms\")\n",
    "sns.barplot(x = methods, y = accuracy, palette = colors)\n",
    "plt.show()"
   ]
  },
  {
   "cell_type": "code",
   "execution_count": 169,
   "metadata": {},
   "outputs": [
    {
     "data": {
      "text/plain": [
       "'Despite the fact that the same ratio was allocated to the train and the test sets for the Logistic Regression, Support Vector Machine and Naive Bayes classifiers, it is evident that the three algorithms behave differently and produce different accuracy scores. The Logistic Regression model had  the  best performance and obtained  better  results  for almost all metrics. It achieved greater accuracy than the other two for the test set (91.80327868852459%). It  is  clear that the Naive Bayes classifier had  the  worst performance  among  the  algorithms with accuracy 83.60655737704919% for the test set, while the SVM achieved 90.1639344262295%. This does not mean that one algorithm is consistently better than the other ones. Even though the logistic regression algorithm performs better than the others in the specific dataset, their model performances are typically affected by the hyperparameters and depend on the case. Several hyperparameters and regularization strategies, like the C softening parameter in the SVM model, can be tuned in different ways within each of these algorithms in order to achieve better accuracy. The SVM model was extended by using linear and Radial Basis function kernels and the optimum parameters were found, transforming  the dataset into a rich features space, which could be improved perhaps with more training data.'"
      ]
     },
     "execution_count": 169,
     "metadata": {},
     "output_type": "execute_result"
    }
   ],
   "source": [
    "\"Despite the fact that the same ratio was allocated to the train and the test sets for the Logistic Regression, Support Vector Machine and Naive Bayes classifiers, it is evident that the three algorithms behave differently and produce different accuracy scores. The Logistic Regression model had  the  best performance and obtained  better  results  for almost all metrics. It achieved greater accuracy than the other two for the test set (91.80327868852459%). It  is  clear that the Naive Bayes classifier had  the  worst performance  among  the  algorithms with accuracy 83.60655737704919% for the test set, while the SVM achieved 90.1639344262295%. This does not mean that one algorithm is consistently better than the other ones. Even though the logistic regression algorithm performs better than the others in the specific dataset, their model performances are typically affected by the hyperparameters and depend on the case. Several hyperparameters and regularization strategies, like the C softening parameter in the SVM model, can be tuned in different ways within each of these algorithms in order to achieve better accuracy. The SVM model was extended by using linear and Radial Basis function kernels and the optimum parameters were found, transforming  the dataset into a rich features space, which could be improved perhaps with more training data.\" "
   ]
  }
 ],
 "metadata": {
  "kernelspec": {
   "display_name": "Python 3",
   "language": "python",
   "name": "python3"
  },
  "language_info": {
   "codemirror_mode": {
    "name": "ipython",
    "version": 3
   },
   "file_extension": ".py",
   "mimetype": "text/x-python",
   "name": "python",
   "nbconvert_exporter": "python",
   "pygments_lexer": "ipython3",
   "version": "3.8.5"
  }
 },
 "nbformat": 4,
 "nbformat_minor": 4
}
